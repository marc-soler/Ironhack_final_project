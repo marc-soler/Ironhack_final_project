{
 "cells": [
  {
   "cell_type": "markdown",
   "id": "62ca0818",
   "metadata": {},
   "source": [
    "# Insights\n",
    "- Location of the jobs\n",
    "- Top hiring companies\n",
    "- True proportion of data analysts vs. scientists\n",
    "- Percentage of overlapped job positions\n",
    "- Proportion of seniority"
   ]
  },
  {
   "cell_type": "markdown",
   "id": "7e1e4a9e",
   "metadata": {},
   "source": [
    "# Importing libraries"
   ]
  },
  {
   "cell_type": "code",
   "execution_count": 210,
   "id": "d67ecf0b",
   "metadata": {},
   "outputs": [],
   "source": [
    "import re\n",
    "import sys\n",
    "import nltk\n",
    "import unidecode\n",
    "import numpy as np\n",
    "import pandas as pd\n",
    "import seaborn as sns\n",
    "from nltk import Text\n",
    "from textblob import TextBlob\n",
    "from langdetect import detect\n",
    "from collections import Counter\n",
    "import matplotlib.pyplot as plt\n",
    "from wordcloud import WordCloud\n",
    "from nltk.corpus import stopwords\n",
    "from googletrans import Translator\n",
    "from nltk.stem import WordNetLemmatizer\n",
    "from nltk.tokenize import word_tokenize, RegexpTokenizer\n",
    "from sklearn.feature_extraction.text import CountVectorizer, TfidfVectorizer\n",
    "%matplotlib inline\n",
    "pd.set_option('display.max_colwidth', None)"
   ]
  },
  {
   "cell_type": "code",
   "execution_count": 231,
   "id": "9dc9f4d5",
   "metadata": {},
   "outputs": [
    {
     "name": "stdout",
     "output_type": "stream",
     "text": [
      "<class 'pandas.core.frame.DataFrame'>\n",
      "RangeIndex: 210 entries, 0 to 209\n",
      "Data columns (total 5 columns):\n",
      " #   Column       Non-Null Count  Dtype \n",
      "---  ------       --------------  ----- \n",
      " 0   title        210 non-null    object\n",
      " 1   company      210 non-null    object\n",
      " 2   modality     210 non-null    object\n",
      " 3   description  210 non-null    object\n",
      " 4   position     210 non-null    object\n",
      "dtypes: object(5)\n",
      "memory usage: 8.3+ KB\n"
     ]
    }
   ],
   "source": [
    "df.info()"
   ]
  },
  {
   "cell_type": "markdown",
   "id": "356493da",
   "metadata": {},
   "source": [
    "# Importing the data"
   ]
  },
  {
   "cell_type": "code",
   "execution_count": 211,
   "id": "345d57e9",
   "metadata": {},
   "outputs": [],
   "source": [
    "df = pd.read_csv('../data/analyst_scientist_bcn_last_month.csv')"
   ]
  },
  {
   "cell_type": "markdown",
   "id": "63c57a1c",
   "metadata": {},
   "source": [
    "# Removing duplicate job offers (different locations only)"
   ]
  },
  {
   "cell_type": "code",
   "execution_count": 212,
   "id": "1e60af2f",
   "metadata": {},
   "outputs": [],
   "source": [
    "df.drop([159, 163, 207], inplace=True)\n",
    "df.reset_index(drop=True, inplace=True)"
   ]
  },
  {
   "cell_type": "code",
   "execution_count": 213,
   "id": "160f05e6",
   "metadata": {
    "scrolled": false
   },
   "outputs": [
    {
     "data": {
      "text/html": [
       "<div>\n",
       "<style scoped>\n",
       "    .dataframe tbody tr th:only-of-type {\n",
       "        vertical-align: middle;\n",
       "    }\n",
       "\n",
       "    .dataframe tbody tr th {\n",
       "        vertical-align: top;\n",
       "    }\n",
       "\n",
       "    .dataframe thead th {\n",
       "        text-align: right;\n",
       "    }\n",
       "</style>\n",
       "<table border=\"1\" class=\"dataframe\">\n",
       "  <thead>\n",
       "    <tr style=\"text-align: right;\">\n",
       "      <th></th>\n",
       "      <th>title</th>\n",
       "      <th>company</th>\n",
       "      <th>location</th>\n",
       "      <th>modality</th>\n",
       "      <th>description</th>\n",
       "    </tr>\n",
       "  </thead>\n",
       "  <tbody>\n",
       "    <tr>\n",
       "      <th>0</th>\n",
       "      <td>Language Data Analyst Norwegian Speakers (Barcelona)</td>\n",
       "      <td>TransPerfect</td>\n",
       "      <td>Barcelona, Catalonia, Spain</td>\n",
       "      <td>On-site</td>\n",
       "      <td>\\nJob description\\nDataForce is part of the TransPerfect family of companies, the world’s largest provider of language and technology solutions for global business, with offices in more than 100 cities worldwide.\\nWe are currently hiring Norwegian speakers in Barcelona to join us in an innovative and interesting project to improve Artificial Intelligence and technology (i.e., speech or text recognition, input methods, keyboard/swipe technology, or other areas of human-machine interaction related to languages).As a Language Data Analyst in DataForce, your main task will be to classify, sort, label, and annotate data that are used to train AI.\\nJob requirements\\nNo previous experience or training in the field is required - we will teach you all you need to know!Native level proficiency in Norwegian is a must.Great comprehension of English is also required (tests and training materials are in English.\\nYou also need to be:\\neligible to work in Spain able to work from our offices in Barcelona - this position is onsitedetail-oriented and not afraid of repetitive tasksa team player!\\nWhat we offer\\nFull-time work in a fast-growing multinational company.Friendly and international environment in the office located in the center of sunny Barcelona.Stable work schedule (we work standard office hours - no shifts or work on weekends!).Competitive salary.\\nDoes it sound interesting? Then do not hesitate and hit the Apply button!\\n</td>\n",
       "    </tr>\n",
       "    <tr>\n",
       "      <th>1</th>\n",
       "      <td>GO! Graduate IT &amp; Data Analysis</td>\n",
       "      <td>Essity</td>\n",
       "      <td>Barcelona, Catalonia, Spain</td>\n",
       "      <td>On-site</td>\n",
       "      <td>\\nGO! Graduate - IT Data &amp; Analytics\\nDo you want to kick-start a career with purpose and break barriers to improved well-being? Are you thriving in a fast-paced environment where you can make an impact and be part of a global team? The Essity GO! Program offers you a real job with real responsibilities from day one.\\nWithin the Global Business Services BU we are looking for candidates to join as GO! Graduate GO! Graduate Technology based in San Joan Despi, in Barcellona to help shaping the future at Essity.\\nThe GO! Program is a great way to start to use those skills you have learned and put them to the test in a real job with real responsibilities, while you take the driver’s seat in your development. If you are an ambitious person looking to make an impact, this is the role for you! Working at Essity is not just a career; it is a chance to directly make the world a healthier, more hygienic and safer place.\\nAt Essity, we believe every career is as unique as the individual and empower employees to reach their full potential in a winning culture motivated by a powerful purpose.  Our commitment is supported by our beliefs: We are committed, we care, we collaborate and we have courage.\\n What You Will Do\\nAt Essity, we see graduates as playing an important role in challenging the status quo, driving change, and making a positive impact on the business and on hygiene and health globally.\\nAs GO! Graduate IT &amp; Data Analysis, you will be involved in various Technology projects to gain experience within projects and implementation of technology through partnership and cooperation with external suppliers and internal customers.\\nWork in different areas within and around IT Data &amp; Analytics, preparing you to start a promising career within this areaDevelop skills like Data Modelling / Information Architecture / Dashboarding / Business Requirement Analysis / Project Management / Data Science (ML)Work with and learn latest technologies like SAP Business Warehouse / SAP HANA / SAP Application Cloud / Azure Data Lake / MS PowerBiWork in direct collaboration with both IT &amp; business colleaguesSupport experienced colleagues in daily tasksParticipate into project activities to deliver profitable growthPerform standard technical tasksMonitor technical processes and work methodsCollect and analyze technical data to identify improvement opportunities and propose corrective actionsEnsure collaboration and information flow across multiple businesses and stakeholdersNetwork with other graduates and build networks across Essity\\n Who You Are\\nYou have a minimum Bachelor degree in Physics / Mathematics / Information Technology / Computer Science or similar completed at program start.You have maximum 24 months of work experience after graduation. Work experience is not required, but appropriate internships in industry is an advantage.You have an interest in IT and can show this through (extra-) curricular activities.You have an excellent level of English is required and also good skills in local language (mention the country specific)You have International mindset from working and/or studying abroad and an interest in collaborating with people from different cultures.You have willingness to travel and relocate if needed.You have an interest in developing and leading yourself, a curiosity to learn new things and an ability to inspire people to achieve things together. With your solution-oriented approach you are eager to make a difference and have the courage to act on own ideas.You are a great networker and communicator who thrives in a changing environment. You have a strong learning agility and ability to adapt to change.\\n What We Can Offer You\\nAt Essity, we believe everyone's learning and professional development is unique and want to empower employees to reach their full potential in a winning culture motivated by a powerful purpose.\\nCollaborative and Inclusive Culture | Empowering &amp; Engaged Leaders | Working with Powerful Purpose &amp; Sustainable Impact | Learning and Growing in your Career | Supporting Well-being &amp; Sustainable Working Life | Life-changing Innovations | Competitive Total rewards\\nTogether, we are improving lives, every day.\\nWorking at Essity is not just a career; it is a chance to directly make the world a healthier, more hygienic and safer place. With impactful innovations coupled with sustainable solutions, we strive to reach more people every year with the necessary and essential solutions for well-being.\\n\\n</td>\n",
       "    </tr>\n",
       "  </tbody>\n",
       "</table>\n",
       "</div>"
      ],
      "text/plain": [
       "                                                  title       company  \\\n",
       "0  Language Data Analyst Norwegian Speakers (Barcelona)  TransPerfect   \n",
       "1                       GO! Graduate IT & Data Analysis        Essity   \n",
       "\n",
       "                      location modality  \\\n",
       "0  Barcelona, Catalonia, Spain  On-site   \n",
       "1  Barcelona, Catalonia, Spain  On-site   \n",
       "\n",
       "                                                                                                                                                                                                                                                                                                                                                                                                                                                                                                                                                                                                                                                                                                                                                                                                                                                                                                                                                                                                                                                                                                                                                                                                                                                                                                                                                                                                                                                                                                                                                                                                                                                                                                                                                                                                                                                                                                                                                                                                                                                                                                                                                                                                                                                                                                                                                                                                                                                                                                                                                                                                                                                                                                                                                                                                                                                                                                                                                                                                                                                                                                                                                                                                                                                                                                                                                                                                                                                                                                                                                                                                                                                                                                                                                                                                                                                                                                                                                                                                                                                                                                                                                                                                                                                                                                                                                                                                                                                                                                                                                                                                                                                                       description  \n",
       "0                                                                                                                                                                                                                                                                                                                                                                                                                                                                                                                                                                                                                                                                                                                                                                                                                                                                                                                                                                                                                                                                                                                                                                                                                                                                                                                                                                                                                                                                                                                                                                                                                                                                                                                                                                                                                                                                                                                                                                                                                                                                                                                                                                                                                                                                                                                                                                                                                                                                                                                                                                                                                                                                                                                                                                                                                                                                                                                                                                                                                                                                                                                                                                               \\nJob description\\nDataForce is part of the TransPerfect family of companies, the world’s largest provider of language and technology solutions for global business, with offices in more than 100 cities worldwide.\\nWe are currently hiring Norwegian speakers in Barcelona to join us in an innovative and interesting project to improve Artificial Intelligence and technology (i.e., speech or text recognition, input methods, keyboard/swipe technology, or other areas of human-machine interaction related to languages).As a Language Data Analyst in DataForce, your main task will be to classify, sort, label, and annotate data that are used to train AI.\\nJob requirements\\nNo previous experience or training in the field is required - we will teach you all you need to know!Native level proficiency in Norwegian is a must.Great comprehension of English is also required (tests and training materials are in English.\\nYou also need to be:\\neligible to work in Spain able to work from our offices in Barcelona - this position is onsitedetail-oriented and not afraid of repetitive tasksa team player!\\nWhat we offer\\nFull-time work in a fast-growing multinational company.Friendly and international environment in the office located in the center of sunny Barcelona.Stable work schedule (we work standard office hours - no shifts or work on weekends!).Competitive salary.\\nDoes it sound interesting? Then do not hesitate and hit the Apply button!\\n   \n",
       "1  \\nGO! Graduate - IT Data & Analytics\\nDo you want to kick-start a career with purpose and break barriers to improved well-being? Are you thriving in a fast-paced environment where you can make an impact and be part of a global team? The Essity GO! Program offers you a real job with real responsibilities from day one.\\nWithin the Global Business Services BU we are looking for candidates to join as GO! Graduate GO! Graduate Technology based in San Joan Despi, in Barcellona to help shaping the future at Essity.\\nThe GO! Program is a great way to start to use those skills you have learned and put them to the test in a real job with real responsibilities, while you take the driver’s seat in your development. If you are an ambitious person looking to make an impact, this is the role for you! Working at Essity is not just a career; it is a chance to directly make the world a healthier, more hygienic and safer place.\\nAt Essity, we believe every career is as unique as the individual and empower employees to reach their full potential in a winning culture motivated by a powerful purpose.  Our commitment is supported by our beliefs: We are committed, we care, we collaborate and we have courage.\\n What You Will Do\\nAt Essity, we see graduates as playing an important role in challenging the status quo, driving change, and making a positive impact on the business and on hygiene and health globally.\\nAs GO! Graduate IT & Data Analysis, you will be involved in various Technology projects to gain experience within projects and implementation of technology through partnership and cooperation with external suppliers and internal customers.\\nWork in different areas within and around IT Data & Analytics, preparing you to start a promising career within this areaDevelop skills like Data Modelling / Information Architecture / Dashboarding / Business Requirement Analysis / Project Management / Data Science (ML)Work with and learn latest technologies like SAP Business Warehouse / SAP HANA / SAP Application Cloud / Azure Data Lake / MS PowerBiWork in direct collaboration with both IT & business colleaguesSupport experienced colleagues in daily tasksParticipate into project activities to deliver profitable growthPerform standard technical tasksMonitor technical processes and work methodsCollect and analyze technical data to identify improvement opportunities and propose corrective actionsEnsure collaboration and information flow across multiple businesses and stakeholdersNetwork with other graduates and build networks across Essity\\n Who You Are\\nYou have a minimum Bachelor degree in Physics / Mathematics / Information Technology / Computer Science or similar completed at program start.You have maximum 24 months of work experience after graduation. Work experience is not required, but appropriate internships in industry is an advantage.You have an interest in IT and can show this through (extra-) curricular activities.You have an excellent level of English is required and also good skills in local language (mention the country specific)You have International mindset from working and/or studying abroad and an interest in collaborating with people from different cultures.You have willingness to travel and relocate if needed.You have an interest in developing and leading yourself, a curiosity to learn new things and an ability to inspire people to achieve things together. With your solution-oriented approach you are eager to make a difference and have the courage to act on own ideas.You are a great networker and communicator who thrives in a changing environment. You have a strong learning agility and ability to adapt to change.\\n What We Can Offer You\\nAt Essity, we believe everyone's learning and professional development is unique and want to empower employees to reach their full potential in a winning culture motivated by a powerful purpose.\\nCollaborative and Inclusive Culture | Empowering & Engaged Leaders | Working with Powerful Purpose & Sustainable Impact | Learning and Growing in your Career | Supporting Well-being & Sustainable Working Life | Life-changing Innovations | Competitive Total rewards\\nTogether, we are improving lives, every day.\\nWorking at Essity is not just a career; it is a chance to directly make the world a healthier, more hygienic and safer place. With impactful innovations coupled with sustainable solutions, we strive to reach more people every year with the necessary and essential solutions for well-being.\\n\\n   "
      ]
     },
     "execution_count": 213,
     "metadata": {},
     "output_type": "execute_result"
    }
   ],
   "source": [
    "df.head(2)"
   ]
  },
  {
   "cell_type": "markdown",
   "id": "3f5ab047",
   "metadata": {},
   "source": [
    "# Categorization of positions"
   ]
  },
  {
   "cell_type": "markdown",
   "id": "52c996ef",
   "metadata": {},
   "source": [
    "## Proportion of job positions raw"
   ]
  },
  {
   "cell_type": "code",
   "execution_count": 214,
   "id": "540755a1",
   "metadata": {},
   "outputs": [
    {
     "name": "stdout",
     "output_type": "stream",
     "text": [
      "Analysts: 35%\n",
      "Scientists: 25%\n",
      "Engineers: 39%\n"
     ]
    }
   ],
   "source": [
    "df['title'] = df['title'].str.lower()\n",
    "analysts = len(df[df['title'].str.contains(\"anal\")])\n",
    "scientists = len(df[df['title'].str.contains(\"scien\")])\n",
    "engineers = len(df[df['title'].str.contains(\"engine\")])\n",
    "print(f'Analysts: {round(analysts/df.shape[0]*100)}%')\n",
    "print(f'Scientists: {round(scientists/df.shape[0]*100)}%')\n",
    "print(f'Engineers: {round(engineers/df.shape[0]*100)}%')"
   ]
  },
  {
   "cell_type": "markdown",
   "id": "8f8be4f8",
   "metadata": {},
   "source": [
    "## Overlapped job offers (cointaining analyst + scientist)"
   ]
  },
  {
   "cell_type": "code",
   "execution_count": 215,
   "id": "cc3297d8",
   "metadata": {},
   "outputs": [
    {
     "name": "stdout",
     "output_type": "stream",
     "text": [
      "12 job positions are overlapped, 5% of all Data Analyst & Data Scientist positions.\n"
     ]
    }
   ],
   "source": [
    "n = 0\n",
    "overlapped = []\n",
    "for index, job in df['title'].iteritems():\n",
    "    if 'scien' in job and 'anal' in job:\n",
    "        n += 1\n",
    "        overlapped.append(index)\n",
    "per = round(n/(analysts+scientists)*100)\n",
    "print(f'{n} job positions are overlapped, {per}% of all Data Analyst & Data Scientist positions.')"
   ]
  },
  {
   "cell_type": "code",
   "execution_count": 216,
   "id": "76721864",
   "metadata": {},
   "outputs": [
    {
     "data": {
      "text/plain": [
       "17                                     game data analyst/scientist\n",
       "24                  data scientist – marketing & network analytics\n",
       "37                                   senior data analyst/scientist\n",
       "72            game data scientist/analyst - barcelona gaming giant\n",
       "86                 global analytics, data and automation scientist\n",
       "108                  digital marketing data analyst/data scientist\n",
       "150                 senior data analyst / data scientist : pricing\n",
       "162                      senior data analyst / data scientist : ua\n",
       "176                 senior data analyst / data scientist : courses\n",
       "296    large format marketing data science & business analyst lead\n",
       "373                      senior data scientist - pricing analytics\n",
       "382                                      data scientist, analytics\n",
       "Name: title, dtype: object"
      ]
     },
     "execution_count": 216,
     "metadata": {},
     "output_type": "execute_result"
    }
   ],
   "source": [
    "df.iloc[overlapped, 0]"
   ]
  },
  {
   "cell_type": "markdown",
   "id": "910a6354",
   "metadata": {},
   "source": [
    "### Manual categorization of overlapped job position titles"
   ]
  },
  {
   "cell_type": "markdown",
   "id": "56b8d204",
   "metadata": {},
   "source": [
    "Manual categorization after reading the descriptions:  \n",
    "17: analyst  \n",
    "37: analyst  \n",
    "72: analyst  \n",
    "86: scientist  \n",
    "108: analyst  \n",
    "150: analyst  \n",
    "162: analyst  \n",
    "176: analyst  "
   ]
  },
  {
   "cell_type": "code",
   "execution_count": 217,
   "id": "f67f8015",
   "metadata": {},
   "outputs": [],
   "source": [
    "# Changing titles for categorization\n",
    "df.iloc[17, 0] = 'game data analyst'\n",
    "df.iloc[37, 0] = 'senior data analyst'\n",
    "df.iloc[72, 0] = 'game data analyst - barcelona gaming giant'\n",
    "df.iloc[86, 0] = 'data and automation scientist'\n",
    "df.iloc[108, 0] = 'digital marketing data analyst'\n",
    "df.iloc[150, 0] = 'senior data analyst : pricing'\n",
    "df.iloc[162, 0] = 'senior data analyst : ua'\n",
    "df.iloc[176, 0] = 'senior data analyst : courses'"
   ]
  },
  {
   "cell_type": "markdown",
   "id": "da22ecd3",
   "metadata": {},
   "source": [
    "## Categorizing job position and dropping irrelevant ones"
   ]
  },
  {
   "cell_type": "code",
   "execution_count": 218,
   "id": "358e3264",
   "metadata": {},
   "outputs": [],
   "source": [
    "category = []\n",
    "dropped = []\n",
    "for index, position in df['title'].iteritems():\n",
    "    if \"data scien\" in position:\n",
    "        category.append('data scientist')\n",
    "    elif \"data anal\" in position:\n",
    "        category.append('data analyst')\n",
    "    else:\n",
    "        dropped.append(index)\n",
    "\n",
    "df.drop(dropped, inplace=True)\n",
    "df.reset_index(inplace=True, drop=True)\n",
    "df['position'] = category"
   ]
  },
  {
   "cell_type": "markdown",
   "id": "e956527f",
   "metadata": {},
   "source": [
    "# Exploring the data before cleaning it"
   ]
  },
  {
   "cell_type": "markdown",
   "id": "0677741f",
   "metadata": {},
   "source": [
    "## Proportion of job positions"
   ]
  },
  {
   "cell_type": "code",
   "execution_count": 219,
   "id": "c12f1b81",
   "metadata": {},
   "outputs": [
    {
     "data": {
      "text/plain": [
       "data analyst      119\n",
       "data scientist     91\n",
       "Name: position, dtype: int64"
      ]
     },
     "execution_count": 219,
     "metadata": {},
     "output_type": "execute_result"
    }
   ],
   "source": [
    "df['position'].value_counts()"
   ]
  },
  {
   "cell_type": "code",
   "execution_count": 220,
   "id": "d948cf78",
   "metadata": {},
   "outputs": [
    {
     "name": "stdout",
     "output_type": "stream",
     "text": [
      "Analysts: 57%\n",
      "Scientists: 43%\n"
     ]
    }
   ],
   "source": [
    "print(f\"Analysts: {round(len(df[df['position'] == 'data analyst'])/df.shape[0]*100)}%\")\n",
    "print(f\"Scientists: {round(len(df[df['position'] == 'data scientist'])/df.shape[0]*100)}%\")"
   ]
  },
  {
   "cell_type": "markdown",
   "id": "9ec08f73",
   "metadata": {},
   "source": [
    "## Location"
   ]
  },
  {
   "cell_type": "code",
   "execution_count": 221,
   "id": "05ae5c54",
   "metadata": {},
   "outputs": [
    {
     "data": {
      "text/plain": [
       "Unknown    59\n",
       "On-site    57\n",
       "Hybrid     49\n",
       "Remote     45\n",
       "Name: modality, dtype: int64"
      ]
     },
     "execution_count": 221,
     "metadata": {},
     "output_type": "execute_result"
    }
   ],
   "source": [
    "df['modality'].value_counts()"
   ]
  },
  {
   "cell_type": "markdown",
   "id": "bf4fa568",
   "metadata": {},
   "source": [
    "## Top hiring companies"
   ]
  },
  {
   "cell_type": "code",
   "execution_count": 222,
   "id": "eec74d85",
   "metadata": {},
   "outputs": [
    {
     "data": {
      "text/plain": [
       "Glovo                                 19\n",
       "eDreams ODIGEO                         7\n",
       "Accenture España                       6\n",
       "Zurich Insurance                       6\n",
       "HP                                     6\n",
       "                                      ..\n",
       "Vertex Professional Services (VPS)     1\n",
       "Cofidis España                         1\n",
       "PPG                                    1\n",
       "ZF Group                               1\n",
       "Premier Research                       1\n",
       "Name: company, Length: 127, dtype: int64"
      ]
     },
     "execution_count": 222,
     "metadata": {},
     "output_type": "execute_result"
    }
   ],
   "source": [
    "df['company'].value_counts()"
   ]
  },
  {
   "cell_type": "markdown",
   "id": "e24cb199",
   "metadata": {},
   "source": [
    "## Average length of descriptions"
   ]
  },
  {
   "cell_type": "code",
   "execution_count": 223,
   "id": "e394403d",
   "metadata": {},
   "outputs": [
    {
     "name": "stdout",
     "output_type": "stream",
     "text": [
      "Average: 574\n",
      "Analysts: 575\n",
      "Scientists: 577\n"
     ]
    }
   ],
   "source": [
    "total = round(df['description'].str.split().apply(len).mean())\n",
    "analysts = round(df[df['title'].str.contains(\"anal\")]['description'].str.split().apply(len).mean())\n",
    "scientists = round(df[df['title'].str.contains(\"scien\")]['description'].str.split().apply(len).mean())\n",
    "print(f'Average: {total}')\n",
    "print(f'Analysts: {analysts}')\n",
    "print(f'Scientists: {scientists}')"
   ]
  },
  {
   "cell_type": "markdown",
   "id": "63cd41c9",
   "metadata": {},
   "source": [
    "# Cleaning"
   ]
  },
  {
   "cell_type": "markdown",
   "id": "73ad968b",
   "metadata": {},
   "source": [
    "## Dropping the location column"
   ]
  },
  {
   "cell_type": "code",
   "execution_count": 224,
   "id": "d086a9d8",
   "metadata": {},
   "outputs": [],
   "source": [
    "df.drop('location', axis=1, inplace=True)"
   ]
  },
  {
   "cell_type": "markdown",
   "id": "977661e5",
   "metadata": {},
   "source": [
    "## Descriptions"
   ]
  },
  {
   "cell_type": "code",
   "execution_count": 225,
   "id": "b8999df5",
   "metadata": {},
   "outputs": [],
   "source": [
    "# Replacing line jumps with spaces\n",
    "df['description'] = df['description'].str.replace('\\n', ' ')\n",
    "# Deleting hyphens & ¿\n",
    "df['description'] = df['description'].map(lambda x: x.replace('-', '').replace('¿', ''))\n",
    "# Normalising words (no accents, etc.)\n",
    "df['description'] = df['description'].map(lambda x: unidecode.unidecode(x))\n",
    "# Adding a space in a word if it contains a capitalised letter in between\n",
    "df['description'] = df['description'].map(lambda x: re.sub(r\"(?<![A-Z])(?<!^)([A-Z])\",r\" \\1\", x))\n",
    "# Adding spaces before and after numbers\n",
    "df['description'] = df['description'].map(lambda x: re.sub(r\"([0-9]+(\\.[0-9]+)?)\", r\" \\1\", x))\n",
    "# Substitute n number of spaces by just one space\n",
    "df['description'] = df['description'].map(lambda x: ' '.join(x.split()))\n",
    "# Remove spaces before dots and after opening parenthesis\n",
    "df['description'] = df['description'].map(lambda x: x.replace('( ', '(').replace(' .', '.').replace('/ ', '/'))\n",
    "# Fixing some problems with the normalisation\n",
    "df['description'] = df['description'].map(lambda x: x.replace('ano', 'año').replace('anos', 'años'))\n",
    "# Translating the job offers in spanish\n",
    "#df['description'] = df['description'].map(lambda x: str(TextBlob(x).translate(to='en'))if detect(x) == 'es' else x)"
   ]
  },
  {
   "cell_type": "code",
   "execution_count": 226,
   "id": "048e8d21",
   "metadata": {},
   "outputs": [
    {
     "data": {
      "text/html": [
       "<div>\n",
       "<style scoped>\n",
       "    .dataframe tbody tr th:only-of-type {\n",
       "        vertical-align: middle;\n",
       "    }\n",
       "\n",
       "    .dataframe tbody tr th {\n",
       "        vertical-align: top;\n",
       "    }\n",
       "\n",
       "    .dataframe thead th {\n",
       "        text-align: right;\n",
       "    }\n",
       "</style>\n",
       "<table border=\"1\" class=\"dataframe\">\n",
       "  <thead>\n",
       "    <tr style=\"text-align: right;\">\n",
       "      <th></th>\n",
       "      <th>title</th>\n",
       "      <th>company</th>\n",
       "      <th>modality</th>\n",
       "      <th>description</th>\n",
       "      <th>position</th>\n",
       "    </tr>\n",
       "  </thead>\n",
       "  <tbody>\n",
       "    <tr>\n",
       "      <th>0</th>\n",
       "      <td>language data analyst norwegian speakers (barcelona)</td>\n",
       "      <td>TransPerfect</td>\n",
       "      <td>On-site</td>\n",
       "      <td>Job description Data Force is part of the Trans Perfect family of companies, the world's largest provider of language and technology solutions for global business, with offices in more than 100 cities worldwide. We are currently hiring Norwegian speakers in Barcelona to join us in an innovative and interesting project to improve Artificial Intelligence and technology (i.e., speech or text recognition, input methods, keyboard/swipe technology, or other areas of humanmachine interaction related to languages). As a Language Data Analyst in Data Force, your main task will be to classify, sort, label, and annotate data that are used to train AI. Job requirements No previous experience or training in the field is required we will teach you all you need to know! Native level proficiency in Norwegian is a must. Great comprehension of English is also required (tests and training materials are in English. You also need to be: eligible to work in Spain able to work from our offices in Barcelona this position is onsitedetailoriented and not afraid of repetitive tasksa team player! What we offer Fulltime work in a fastgrowing multinational company. Friendly and international environment in the office located in the center of sunny Barcelona. Stable work schedule (we work standard office hours no shifts or work on weekends!). Competitive salary. Does it sound interesting? Then do not hesitate and hit the Apply button!</td>\n",
       "      <td>data analyst</td>\n",
       "    </tr>\n",
       "    <tr>\n",
       "      <th>1</th>\n",
       "      <td>go! graduate it &amp; data analysis</td>\n",
       "      <td>Essity</td>\n",
       "      <td>On-site</td>\n",
       "      <td>GO! Graduate IT Data &amp; Analytics Do you want to kickstart a career with purpose and break barriers to improved wellbeing? Are you thriving in a fastpaced environment where you can make an impact and be part of a global team? The Essity GO! Program offers you a real job with real responsibilities from day one. Within the Global Business Services BU we are looking for candidates to join as GO! Graduate GO! Graduate Technology based in San Joan Despi, in Barcellona to help shaping the future at Essity. The GO! Program is a great way to start to use those skills you have learned and put them to the test in a real job with real responsibilities, while you take the driver's seat in your development. If you are an ambitious person looking to make an impact, this is the role for you! Working at Essity is not just a career; it is a chance to directly make the world a healthier, more hygienic and safer place. At Essity, we believe every career is as unique as the individual and empower employees to reach their full potential in a winning culture motivated by a powerful purpose. Our commitment is supported by our beliefs: We are committed, we care, we collaborate and we have courage. What You Will Do At Essity, we see graduates as playing an important role in challenging the status quo, driving change, and making a positive impact on the business and on hygiene and health globally. As GO! Graduate IT &amp; Data Analysis, you will be involved in various Technology projects to gain experience within projects and implementation of technology through partnership and cooperation with external suppliers and internal customers. Work in different areas within and around IT Data &amp; Analytics, preparing you to start a promising career within this area Develop skills like Data Modelling /Information Architecture /Dashboarding /Business Requirement Analysis /Project Management /Data Science (ML) Work with and learn latest technologies like SAP Business Warehouse /SAP HANA /SAP Application Cloud /Azure Data Lake /MS Power Bi Work in direct collaboration with both IT &amp; business colleagues Support experienced colleagues in daily tasks Participate into project activities to deliver profitable growth Perform standard technical tasks Monitor technical processes and work methods Collect and analyze technical data to identify improvement opportunities and propose corrective actions Ensure collaboration and information flow across multiple businesses and stakeholders Network with other graduates and build networks across Essity Who You Are You have a minimum Bachelor degree in Physics /Mathematics /Information Technology /Computer Science or similar completed at program start. You have maximum 24 months of work experience after graduation. Work experience is not required, but appropriate internships in industry is an advantage. You have an interest in IT and can show this through (extra) curricular activities. You have an excellent level of English is required and also good skills in local language (mention the country specific) You have International mindset from working and/or studying abroad and an interest in collaborating with people from different cultures. You have willingness to travel and relocate if needed. You have an interest in developing and leading yourself, a curiosity to learn new things and an ability to inspire people to achieve things together. With your solutionoriented approach you are eager to make a difference and have the courage to act on own ideas. You are a great networker and communicator who thrives in a changing environment. You have a strong learning agility and ability to adapt to change. What We Can Offer You At Essity, we believe everyone's learning and professional development is unique and want to empower employees to reach their full potential in a winning culture motivated by a powerful purpose. Collaborative and Inclusive Culture | Empowering &amp; Engaged Leaders | Working with Powerful Purpose &amp; Sustainable Impact | Learning and Growing in your Career | Supporting Wellbeing &amp; Sustainable Working Life | Lifechanging Innovations | Competitive Total rewards Together, we are improving lives, every day. Working at Essity is not just a career; it is a chance to directly make the world a healthier, more hygienic and safer place. With impactful innovations coupled with sustainable solutions, we strive to reach more people every year with the necessary and essential solutions for wellbeing.</td>\n",
       "      <td>data analyst</td>\n",
       "    </tr>\n",
       "  </tbody>\n",
       "</table>\n",
       "</div>"
      ],
      "text/plain": [
       "                                                  title       company  \\\n",
       "0  language data analyst norwegian speakers (barcelona)  TransPerfect   \n",
       "1                       go! graduate it & data analysis        Essity   \n",
       "\n",
       "  modality  \\\n",
       "0  On-site   \n",
       "1  On-site   \n",
       "\n",
       "                                                                                                                                                                                                                                                                                                                                                                                                                                                                                                                                                                                                                                                                                                                                                                                                                                                                                                                                                                                                                                                                                                                                                                                                                                                                                                                                                                                                                                                                                                                                                                                                                                                                                                                                                                                                                                                                                                                                                                                                                                                                                                                                                                                                                                                                                                                                                                                                                                                                                                                                                                                                                                                                                                                                                                                                                                                                                                                                                                                                                                                                                                                                                                                                                                                                                                                                                                                                                                                                                                                                                                                                                                                                                                                                                                                                                                                                                                                                                                                                                                                                                                                                                                                                                                                                                                                                                                                                                                                                                                                                                                                                                                         description  \\\n",
       "0                                                                                                                                                                                                                                                                                                                                                                                                                                                                                                                                                                                                                                                                                                                                                                                                                                                                                                                                                                                                                                                                                                                                                                                                                                                                                                                                                                                                                                                                                                                                                                                                                                                                                                                                                                                                                                                                                                                                                                                                                                                                                                                                                                                                                                                                                                                                                                                                                                                                                                                                                                                                                                                                                                                                                                                                                                                                                                                                                                                                                                                                                                                                                                Job description Data Force is part of the Trans Perfect family of companies, the world's largest provider of language and technology solutions for global business, with offices in more than 100 cities worldwide. We are currently hiring Norwegian speakers in Barcelona to join us in an innovative and interesting project to improve Artificial Intelligence and technology (i.e., speech or text recognition, input methods, keyboard/swipe technology, or other areas of humanmachine interaction related to languages). As a Language Data Analyst in Data Force, your main task will be to classify, sort, label, and annotate data that are used to train AI. Job requirements No previous experience or training in the field is required we will teach you all you need to know! Native level proficiency in Norwegian is a must. Great comprehension of English is also required (tests and training materials are in English. You also need to be: eligible to work in Spain able to work from our offices in Barcelona this position is onsitedetailoriented and not afraid of repetitive tasksa team player! What we offer Fulltime work in a fastgrowing multinational company. Friendly and international environment in the office located in the center of sunny Barcelona. Stable work schedule (we work standard office hours no shifts or work on weekends!). Competitive salary. Does it sound interesting? Then do not hesitate and hit the Apply button!   \n",
       "1  GO! Graduate IT Data & Analytics Do you want to kickstart a career with purpose and break barriers to improved wellbeing? Are you thriving in a fastpaced environment where you can make an impact and be part of a global team? The Essity GO! Program offers you a real job with real responsibilities from day one. Within the Global Business Services BU we are looking for candidates to join as GO! Graduate GO! Graduate Technology based in San Joan Despi, in Barcellona to help shaping the future at Essity. The GO! Program is a great way to start to use those skills you have learned and put them to the test in a real job with real responsibilities, while you take the driver's seat in your development. If you are an ambitious person looking to make an impact, this is the role for you! Working at Essity is not just a career; it is a chance to directly make the world a healthier, more hygienic and safer place. At Essity, we believe every career is as unique as the individual and empower employees to reach their full potential in a winning culture motivated by a powerful purpose. Our commitment is supported by our beliefs: We are committed, we care, we collaborate and we have courage. What You Will Do At Essity, we see graduates as playing an important role in challenging the status quo, driving change, and making a positive impact on the business and on hygiene and health globally. As GO! Graduate IT & Data Analysis, you will be involved in various Technology projects to gain experience within projects and implementation of technology through partnership and cooperation with external suppliers and internal customers. Work in different areas within and around IT Data & Analytics, preparing you to start a promising career within this area Develop skills like Data Modelling /Information Architecture /Dashboarding /Business Requirement Analysis /Project Management /Data Science (ML) Work with and learn latest technologies like SAP Business Warehouse /SAP HANA /SAP Application Cloud /Azure Data Lake /MS Power Bi Work in direct collaboration with both IT & business colleagues Support experienced colleagues in daily tasks Participate into project activities to deliver profitable growth Perform standard technical tasks Monitor technical processes and work methods Collect and analyze technical data to identify improvement opportunities and propose corrective actions Ensure collaboration and information flow across multiple businesses and stakeholders Network with other graduates and build networks across Essity Who You Are You have a minimum Bachelor degree in Physics /Mathematics /Information Technology /Computer Science or similar completed at program start. You have maximum 24 months of work experience after graduation. Work experience is not required, but appropriate internships in industry is an advantage. You have an interest in IT and can show this through (extra) curricular activities. You have an excellent level of English is required and also good skills in local language (mention the country specific) You have International mindset from working and/or studying abroad and an interest in collaborating with people from different cultures. You have willingness to travel and relocate if needed. You have an interest in developing and leading yourself, a curiosity to learn new things and an ability to inspire people to achieve things together. With your solutionoriented approach you are eager to make a difference and have the courage to act on own ideas. You are a great networker and communicator who thrives in a changing environment. You have a strong learning agility and ability to adapt to change. What We Can Offer You At Essity, we believe everyone's learning and professional development is unique and want to empower employees to reach their full potential in a winning culture motivated by a powerful purpose. Collaborative and Inclusive Culture | Empowering & Engaged Leaders | Working with Powerful Purpose & Sustainable Impact | Learning and Growing in your Career | Supporting Wellbeing & Sustainable Working Life | Lifechanging Innovations | Competitive Total rewards Together, we are improving lives, every day. Working at Essity is not just a career; it is a chance to directly make the world a healthier, more hygienic and safer place. With impactful innovations coupled with sustainable solutions, we strive to reach more people every year with the necessary and essential solutions for wellbeing.   \n",
       "\n",
       "       position  \n",
       "0  data analyst  \n",
       "1  data analyst  "
      ]
     },
     "execution_count": 226,
     "metadata": {},
     "output_type": "execute_result"
    }
   ],
   "source": [
    "df.head(2)"
   ]
  },
  {
   "cell_type": "markdown",
   "id": "950c4cf6",
   "metadata": {},
   "source": [
    "# Tokenizing the descriptions + removing stopwords & other things"
   ]
  },
  {
   "cell_type": "code",
   "execution_count": 227,
   "id": "8c416ddf",
   "metadata": {},
   "outputs": [],
   "source": [
    "# Tokenising + lowercase + removing punctuation\n",
    "tokenizer = RegexpTokenizer(r'\\w+')\n",
    "df['description'] = df['description'].map(lambda x: tokenizer.tokenize(x.lower()))\n",
    "# Removing stopwords\n",
    "stop_words = stopwords.words('english')\n",
    "#for index, des in df['description'].iteritems():\n",
    "    #df.iloc[index, 3] =  [w for w in des if not w in stop_words]\n",
    "# Lemmatization\n",
    "def lemma(text):\n",
    "    return [WordNetLemmatizer().lemmatize(w) for w in text]\n",
    "df['description'] = df['description'].apply(lemma)"
   ]
  },
  {
   "cell_type": "code",
   "execution_count": 229,
   "id": "30ddfe6d",
   "metadata": {},
   "outputs": [
    {
     "data": {
      "text/html": [
       "<div>\n",
       "<style scoped>\n",
       "    .dataframe tbody tr th:only-of-type {\n",
       "        vertical-align: middle;\n",
       "    }\n",
       "\n",
       "    .dataframe tbody tr th {\n",
       "        vertical-align: top;\n",
       "    }\n",
       "\n",
       "    .dataframe thead th {\n",
       "        text-align: right;\n",
       "    }\n",
       "</style>\n",
       "<table border=\"1\" class=\"dataframe\">\n",
       "  <thead>\n",
       "    <tr style=\"text-align: right;\">\n",
       "      <th></th>\n",
       "      <th>title</th>\n",
       "      <th>company</th>\n",
       "      <th>modality</th>\n",
       "      <th>description</th>\n",
       "      <th>position</th>\n",
       "    </tr>\n",
       "  </thead>\n",
       "  <tbody>\n",
       "    <tr>\n",
       "      <th>0</th>\n",
       "      <td>language data analyst norwegian speakers (barcelona)</td>\n",
       "      <td>TransPerfect</td>\n",
       "      <td>On-site</td>\n",
       "      <td>[job, description, data, force, is, part, of, the, trans, perfect, family, of, company, the, world, s, largest, provider, of, language, and, technology, solution, for, global, business, with, office, in, more, than, 100, city, worldwide, we, are, currently, hiring, norwegian, speaker, in, barcelona, to, join, u, in, an, innovative, and, interesting, project, to, improve, artificial, intelligence, and, technology, i, e, speech, or, text, recognition, input, method, keyboard, swipe, technology, or, other, area, of, humanmachine, interaction, related, to, language, a, a, language, data, analyst, in, data, force, your, main, task, will, be, to, classify, sort, label, and, annotate, data, that, are, used, ...]</td>\n",
       "      <td>data analyst</td>\n",
       "    </tr>\n",
       "    <tr>\n",
       "      <th>1</th>\n",
       "      <td>go! graduate it &amp; data analysis</td>\n",
       "      <td>Essity</td>\n",
       "      <td>On-site</td>\n",
       "      <td>[go, graduate, it, data, analytics, do, you, want, to, kickstart, a, career, with, purpose, and, break, barrier, to, improved, wellbeing, are, you, thriving, in, a, fastpaced, environment, where, you, can, make, an, impact, and, be, part, of, a, global, team, the, essity, go, program, offer, you, a, real, job, with, real, responsibility, from, day, one, within, the, global, business, service, bu, we, are, looking, for, candidate, to, join, a, go, graduate, go, graduate, technology, based, in, san, joan, despi, in, barcellona, to, help, shaping, the, future, at, essity, the, go, program, is, a, great, way, to, start, to, use, those, ...]</td>\n",
       "      <td>data analyst</td>\n",
       "    </tr>\n",
       "  </tbody>\n",
       "</table>\n",
       "</div>"
      ],
      "text/plain": [
       "                                                  title       company  \\\n",
       "0  language data analyst norwegian speakers (barcelona)  TransPerfect   \n",
       "1                       go! graduate it & data analysis        Essity   \n",
       "\n",
       "  modality  \\\n",
       "0  On-site   \n",
       "1  On-site   \n",
       "\n",
       "                                                                                                                                                                                                                                                                                                                                                                                                                                                                                                                                                                                                                                                                                                                                  description  \\\n",
       "0  [job, description, data, force, is, part, of, the, trans, perfect, family, of, company, the, world, s, largest, provider, of, language, and, technology, solution, for, global, business, with, office, in, more, than, 100, city, worldwide, we, are, currently, hiring, norwegian, speaker, in, barcelona, to, join, u, in, an, innovative, and, interesting, project, to, improve, artificial, intelligence, and, technology, i, e, speech, or, text, recognition, input, method, keyboard, swipe, technology, or, other, area, of, humanmachine, interaction, related, to, language, a, a, language, data, analyst, in, data, force, your, main, task, will, be, to, classify, sort, label, and, annotate, data, that, are, used, ...]   \n",
       "1                                                                        [go, graduate, it, data, analytics, do, you, want, to, kickstart, a, career, with, purpose, and, break, barrier, to, improved, wellbeing, are, you, thriving, in, a, fastpaced, environment, where, you, can, make, an, impact, and, be, part, of, a, global, team, the, essity, go, program, offer, you, a, real, job, with, real, responsibility, from, day, one, within, the, global, business, service, bu, we, are, looking, for, candidate, to, join, a, go, graduate, go, graduate, technology, based, in, san, joan, despi, in, barcellona, to, help, shaping, the, future, at, essity, the, go, program, is, a, great, way, to, start, to, use, those, ...]   \n",
       "\n",
       "       position  \n",
       "0  data analyst  \n",
       "1  data analyst  "
      ]
     },
     "execution_count": 229,
     "metadata": {},
     "output_type": "execute_result"
    }
   ],
   "source": [
    "df.head(2)"
   ]
  },
  {
   "cell_type": "markdown",
   "id": "19a9c284",
   "metadata": {},
   "source": [
    "# Tokenizing the titles + removing stopwords & other things"
   ]
  },
  {
   "cell_type": "code",
   "execution_count": 101,
   "id": "6e7025be",
   "metadata": {},
   "outputs": [
    {
     "ename": "AttributeError",
     "evalue": "'list' object has no attribute 'lower'",
     "output_type": "error",
     "traceback": [
      "\u001b[0;31m---------------------------------------------------------------------------\u001b[0m",
      "\u001b[0;31mAttributeError\u001b[0m                            Traceback (most recent call last)",
      "Input \u001b[0;32mIn [101]\u001b[0m, in \u001b[0;36m<cell line: 2>\u001b[0;34m()\u001b[0m\n\u001b[1;32m      1\u001b[0m \u001b[38;5;66;03m# Tokenising + lowercase + removing punctuation\u001b[39;00m\n\u001b[0;32m----> 2\u001b[0m df[\u001b[38;5;124m'\u001b[39m\u001b[38;5;124mtitle\u001b[39m\u001b[38;5;124m'\u001b[39m] \u001b[38;5;241m=\u001b[39m \u001b[43mdf\u001b[49m\u001b[43m[\u001b[49m\u001b[38;5;124;43m'\u001b[39;49m\u001b[38;5;124;43mtitle\u001b[39;49m\u001b[38;5;124;43m'\u001b[39;49m\u001b[43m]\u001b[49m\u001b[38;5;241;43m.\u001b[39;49m\u001b[43mmap\u001b[49m\u001b[43m(\u001b[49m\u001b[38;5;28;43;01mlambda\u001b[39;49;00m\u001b[43m \u001b[49m\u001b[43mx\u001b[49m\u001b[43m:\u001b[49m\u001b[43m \u001b[49m\u001b[43mtokenizer\u001b[49m\u001b[38;5;241;43m.\u001b[39;49m\u001b[43mtokenize\u001b[49m\u001b[43m(\u001b[49m\u001b[43mx\u001b[49m\u001b[38;5;241;43m.\u001b[39;49m\u001b[43mlower\u001b[49m\u001b[43m(\u001b[49m\u001b[43m)\u001b[49m\u001b[43m)\u001b[49m\u001b[43m)\u001b[49m\n\u001b[1;32m      3\u001b[0m \u001b[38;5;66;03m# Removing stopwords\u001b[39;00m\n\u001b[1;32m      4\u001b[0m \u001b[38;5;28;01mfor\u001b[39;00m index, title \u001b[38;5;129;01min\u001b[39;00m df[\u001b[38;5;124m'\u001b[39m\u001b[38;5;124mtitle\u001b[39m\u001b[38;5;124m'\u001b[39m]\u001b[38;5;241m.\u001b[39miteritems():\n",
      "File \u001b[0;32m~/opt/anaconda3/envs/personal/lib/python3.9/site-packages/pandas/core/series.py:4237\u001b[0m, in \u001b[0;36mSeries.map\u001b[0;34m(self, arg, na_action)\u001b[0m\n\u001b[1;32m   4162\u001b[0m \u001b[38;5;28;01mdef\u001b[39;00m \u001b[38;5;21mmap\u001b[39m(\u001b[38;5;28mself\u001b[39m, arg, na_action\u001b[38;5;241m=\u001b[39m\u001b[38;5;28;01mNone\u001b[39;00m) \u001b[38;5;241m-\u001b[39m\u001b[38;5;241m>\u001b[39m Series:\n\u001b[1;32m   4163\u001b[0m     \u001b[38;5;124;03m\"\"\"\u001b[39;00m\n\u001b[1;32m   4164\u001b[0m \u001b[38;5;124;03m    Map values of Series according to an input mapping or function.\u001b[39;00m\n\u001b[1;32m   4165\u001b[0m \n\u001b[0;32m   (...)\u001b[0m\n\u001b[1;32m   4235\u001b[0m \u001b[38;5;124;03m    dtype: object\u001b[39;00m\n\u001b[1;32m   4236\u001b[0m \u001b[38;5;124;03m    \"\"\"\u001b[39;00m\n\u001b[0;32m-> 4237\u001b[0m     new_values \u001b[38;5;241m=\u001b[39m \u001b[38;5;28;43mself\u001b[39;49m\u001b[38;5;241;43m.\u001b[39;49m\u001b[43m_map_values\u001b[49m\u001b[43m(\u001b[49m\u001b[43marg\u001b[49m\u001b[43m,\u001b[49m\u001b[43m \u001b[49m\u001b[43mna_action\u001b[49m\u001b[38;5;241;43m=\u001b[39;49m\u001b[43mna_action\u001b[49m\u001b[43m)\u001b[49m\n\u001b[1;32m   4238\u001b[0m     \u001b[38;5;28;01mreturn\u001b[39;00m \u001b[38;5;28mself\u001b[39m\u001b[38;5;241m.\u001b[39m_constructor(new_values, index\u001b[38;5;241m=\u001b[39m\u001b[38;5;28mself\u001b[39m\u001b[38;5;241m.\u001b[39mindex)\u001b[38;5;241m.\u001b[39m__finalize__(\n\u001b[1;32m   4239\u001b[0m         \u001b[38;5;28mself\u001b[39m, method\u001b[38;5;241m=\u001b[39m\u001b[38;5;124m\"\u001b[39m\u001b[38;5;124mmap\u001b[39m\u001b[38;5;124m\"\u001b[39m\n\u001b[1;32m   4240\u001b[0m     )\n",
      "File \u001b[0;32m~/opt/anaconda3/envs/personal/lib/python3.9/site-packages/pandas/core/base.py:880\u001b[0m, in \u001b[0;36mIndexOpsMixin._map_values\u001b[0;34m(self, mapper, na_action)\u001b[0m\n\u001b[1;32m    877\u001b[0m         \u001b[38;5;28;01mraise\u001b[39;00m \u001b[38;5;167;01mValueError\u001b[39;00m(msg)\n\u001b[1;32m    879\u001b[0m \u001b[38;5;66;03m# mapper is a function\u001b[39;00m\n\u001b[0;32m--> 880\u001b[0m new_values \u001b[38;5;241m=\u001b[39m \u001b[43mmap_f\u001b[49m\u001b[43m(\u001b[49m\u001b[43mvalues\u001b[49m\u001b[43m,\u001b[49m\u001b[43m \u001b[49m\u001b[43mmapper\u001b[49m\u001b[43m)\u001b[49m\n\u001b[1;32m    882\u001b[0m \u001b[38;5;28;01mreturn\u001b[39;00m new_values\n",
      "File \u001b[0;32m~/opt/anaconda3/envs/personal/lib/python3.9/site-packages/pandas/_libs/lib.pyx:2870\u001b[0m, in \u001b[0;36mpandas._libs.lib.map_infer\u001b[0;34m()\u001b[0m\n",
      "Input \u001b[0;32mIn [101]\u001b[0m, in \u001b[0;36m<lambda>\u001b[0;34m(x)\u001b[0m\n\u001b[1;32m      1\u001b[0m \u001b[38;5;66;03m# Tokenising + lowercase + removing punctuation\u001b[39;00m\n\u001b[0;32m----> 2\u001b[0m df[\u001b[38;5;124m'\u001b[39m\u001b[38;5;124mtitle\u001b[39m\u001b[38;5;124m'\u001b[39m] \u001b[38;5;241m=\u001b[39m df[\u001b[38;5;124m'\u001b[39m\u001b[38;5;124mtitle\u001b[39m\u001b[38;5;124m'\u001b[39m]\u001b[38;5;241m.\u001b[39mmap(\u001b[38;5;28;01mlambda\u001b[39;00m x: tokenizer\u001b[38;5;241m.\u001b[39mtokenize(\u001b[43mx\u001b[49m\u001b[38;5;241;43m.\u001b[39;49m\u001b[43mlower\u001b[49m()))\n\u001b[1;32m      3\u001b[0m \u001b[38;5;66;03m# Removing stopwords\u001b[39;00m\n\u001b[1;32m      4\u001b[0m \u001b[38;5;28;01mfor\u001b[39;00m index, title \u001b[38;5;129;01min\u001b[39;00m df[\u001b[38;5;124m'\u001b[39m\u001b[38;5;124mtitle\u001b[39m\u001b[38;5;124m'\u001b[39m]\u001b[38;5;241m.\u001b[39miteritems():\n",
      "\u001b[0;31mAttributeError\u001b[0m: 'list' object has no attribute 'lower'"
     ]
    }
   ],
   "source": [
    "# Tokenising + lowercase + removing punctuation\n",
    "df['title'] = df['title'].map(lambda x: tokenizer.tokenize(x.lower()))\n",
    "# Removing stopwords\n",
    "for index, title in df['title'].iteritems():\n",
    "    df.iloc[index, 0] = [w for w in title if not w in stop_words]"
   ]
  },
  {
   "cell_type": "markdown",
   "id": "eed9df94",
   "metadata": {},
   "source": [
    "# NLTK objects for titles & descriptions"
   ]
  },
  {
   "cell_type": "code",
   "execution_count": 19,
   "id": "550b28b8",
   "metadata": {},
   "outputs": [],
   "source": [
    "# titles\n",
    "all_titles = []\n",
    "for title in df['title']:\n",
    "    for word in title:\n",
    "        all_titles.append(word)\n",
    "titles = Text(all_titles)"
   ]
  },
  {
   "cell_type": "code",
   "execution_count": 49,
   "id": "6c7176b1",
   "metadata": {},
   "outputs": [],
   "source": [
    "for index, d in df['description'].iteritems():\n",
    "    d = [w.replace('visualisation', 'visualization') for w in d]\n",
    "    d = [w.replace('modelling', 'modeling') for w in d]\n",
    "    d = [w.replace('artificial intelligence', 'ai') for w in d]\n",
    "    d = [w.replace('dashboarding', 'dashboard') for w in d]\n",
    "    d = [w.replace('kpis', 'kpi') for w in d]\n",
    "    d = [w.replace('report', 'reporting') for w in d]\n",
    "    d = [w.replace('predict', 'prediction') for w in d]\n",
    "    d = [w.replace('creative', 'creativity') for w in d]\n",
    "    df['description'][index] = d"
   ]
  },
  {
   "cell_type": "code",
   "execution_count": 52,
   "id": "3ca04ed2",
   "metadata": {},
   "outputs": [],
   "source": [
    "# descriptions\n",
    "all_des = []\n",
    "all_wrds = []\n",
    "for des in df['description']:\n",
    "    all_des.append(des)\n",
    "    for word in des:\n",
    "        all_wrds.append(word)\n",
    "all_wrds = [w.replace('visualisation', 'visualization') for w in all_wrds]\n",
    "all_wrds = [w.replace('modelling', 'modeling') for w in all_wrds]\n",
    "all_wrds = [w.replace('artificial intelligence', 'ai') for w in all_wrds]\n",
    "all_wrds = [w.replace('dashboarding', 'dashboard') for w in all_wrds]\n",
    "all_wrds = [w.replace('kpis', 'kpi') for w in all_wrds]\n",
    "all_wrds = [w.replace('report', 'reporting') for w in all_wrds]\n",
    "all_wrds = [w.replace('predict', 'prediction') for w in all_wrds]\n",
    "all_wrds = [w.replace('creative', 'creativity') for w in all_wrds]\n",
    "for l in all_wrds:\n",
    "    if l == 'team' and all_wrds[all_wrds.index(l) + 1] == 'working':\n",
    "        all_wrds[all_wrds.index(l) + 1] = 'work'\n",
    "descriptions = Text(all_wrds)"
   ]
  },
  {
   "cell_type": "code",
   "execution_count": 21,
   "id": "c17b34f6",
   "metadata": {},
   "outputs": [],
   "source": [
    "# descriptions seggregated by job position\n",
    "all_des_a = []\n",
    "all_des_s = []\n",
    "for des in df[df['position'] == 'data analyst']['description']:\n",
    "    for word in des:\n",
    "        all_des_a.append(word)\n",
    "for des in df[df['position'] == 'data scientist']['description']:\n",
    "    for word in des:\n",
    "        all_des_s.append(word)\n",
    "\n",
    "descriptions_a = Text(all_des_a)\n",
    "descriptions_s = Text(all_des_s)"
   ]
  },
  {
   "cell_type": "code",
   "execution_count": 101,
   "id": "1c899b69",
   "metadata": {},
   "outputs": [],
   "source": [
    "df['company'].to_csv('companies.csv', index=None, header=True)"
   ]
  },
  {
   "cell_type": "markdown",
   "id": "b340f381",
   "metadata": {},
   "source": [
    "# Seniority"
   ]
  },
  {
   "cell_type": "code",
   "execution_count": 23,
   "id": "ab2617a9",
   "metadata": {},
   "outputs": [
    {
     "name": "stdout",
     "output_type": "stream",
     "text": [
      "44\n",
      "7\n"
     ]
    }
   ],
   "source": [
    "# Simple search in the titles\n",
    "srt = 0\n",
    "jrt = 0\n",
    "for title in df['title']:\n",
    "    if 'senior' in title or 'sr' in title:\n",
    "        srt += 1\n",
    "    elif 'junior' in title or 'jr' in title:\n",
    "        jrt += 1\n",
    "\n",
    "print(srt)\n",
    "print(jrt)"
   ]
  },
  {
   "cell_type": "code",
   "execution_count": 24,
   "id": "8be33343",
   "metadata": {},
   "outputs": [
    {
     "name": "stdout",
     "output_type": "stream",
     "text": [
      "53\n",
      "13\n"
     ]
    }
   ],
   "source": [
    "# Simple search in the description\n",
    "sr = 0\n",
    "jr = 0\n",
    "\n",
    "for des in df['description']:\n",
    "    if 'senior' in des or 'sr' in des:\n",
    "        sr += 1\n",
    "    elif 'junior' in des:\n",
    "        jr += 1\n",
    "\n",
    "print(sr)\n",
    "print(jr)"
   ]
  },
  {
   "cell_type": "markdown",
   "id": "e5d192a8",
   "metadata": {},
   "source": [
    "## Segmenting by seniority"
   ]
  },
  {
   "cell_type": "code",
   "execution_count": 25,
   "id": "40935c77",
   "metadata": {},
   "outputs": [],
   "source": [
    "seniority = []\n",
    "for des in df['description']:\n",
    "    if 'senior' in des or 'sr' in des:\n",
    "        seniority.append('senior')\n",
    "    elif 'junior' in des:\n",
    "        seniority.append('junior')\n",
    "    else:\n",
    "        try:\n",
    "            s = Text(des).concordance_list('year')[0]\n",
    "            try:\n",
    "                y = int(s[0][-1])\n",
    "                if y < 4:\n",
    "                    seniority.append('junior')\n",
    "                else:\n",
    "                    seniority.append('senior')\n",
    "            except ValueError:\n",
    "                seniority.append('unknown')\n",
    "        except IndexError:\n",
    "            seniority.append('unknown')"
   ]
  },
  {
   "cell_type": "code",
   "execution_count": 26,
   "id": "c6bed28a",
   "metadata": {},
   "outputs": [
    {
     "data": {
      "text/plain": [
       "senior     83\n",
       "junior     64\n",
       "unknown    63\n",
       "Name: seniority, dtype: int64"
      ]
     },
     "execution_count": 26,
     "metadata": {},
     "output_type": "execute_result"
    }
   ],
   "source": [
    "df['seniority'] = seniority\n",
    "df['seniority'].value_counts()"
   ]
  },
  {
   "cell_type": "markdown",
   "id": "825eff83",
   "metadata": {},
   "source": [
    "# Keywords"
   ]
  },
  {
   "cell_type": "markdown",
   "id": "dd63e4a8",
   "metadata": {},
   "source": [
    "## Education level"
   ]
  },
  {
   "cell_type": "code",
   "execution_count": 27,
   "id": "5433a517",
   "metadata": {},
   "outputs": [],
   "source": [
    "ed_level = ['bachelor', 'master', 'ph']"
   ]
  },
  {
   "cell_type": "markdown",
   "id": "d76030d5",
   "metadata": {},
   "source": [
    "## Major"
   ]
  },
  {
   "cell_type": "code",
   "execution_count": 28,
   "id": "e8bb1535",
   "metadata": {},
   "outputs": [],
   "source": [
    "major = ['quantitative', 'computer science', 'engineering', 'mathematics','statistic','economics']"
   ]
  },
  {
   "cell_type": "markdown",
   "id": "fb157aad",
   "metadata": {},
   "source": [
    "## Tools"
   ]
  },
  {
   "cell_type": "code",
   "execution_count": 29,
   "id": "1d9cba5d",
   "metadata": {},
   "outputs": [],
   "source": [
    "tools = ['python', 'r', 'sql', 'excel', 'tableau', 'power bi', 'qlik', 'aws', 'azure', 'looker',\n",
    "        'agile']"
   ]
  },
  {
   "cell_type": "markdown",
   "id": "016bd72a",
   "metadata": {},
   "source": [
    "## Hard skills"
   ]
  },
  {
   "cell_type": "code",
   "execution_count": 3,
   "id": "3072bd64",
   "metadata": {},
   "outputs": [],
   "source": [
    "hard_skills = ['programming', 'machine learning','visualization',\n",
    "               'modeling','research','deep learning', 'analytical skill',\n",
    "               'optimization', 'automation', 'ab', 'ai', 'dashboard',\n",
    "               'kpi', 'big data', 'data mining', 'etl', 'reporting', 'segmentation',\n",
    "               'business intelligence', 'natural language', 'prediction', 'algorithm']"
   ]
  },
  {
   "cell_type": "markdown",
   "id": "2da57f1a",
   "metadata": {},
   "source": [
    "## Soft skills"
   ]
  },
  {
   "cell_type": "code",
   "execution_count": 1,
   "id": "fab5ec7f",
   "metadata": {},
   "outputs": [],
   "source": [
    "soft_skills = ['communication', 'team work', 'presentation', 'storytelling', 'decision making',\n",
    "              'creativity', 'curiosity', 'leadership', 'problem solving', 'attention detail',\n",
    "              'motivation', 'proactive']"
   ]
  },
  {
   "cell_type": "markdown",
   "id": "63f3a96a",
   "metadata": {},
   "source": [
    "## Keyword extraction"
   ]
  },
  {
   "cell_type": "code",
   "execution_count": 88,
   "id": "bfd1fe92",
   "metadata": {},
   "outputs": [],
   "source": [
    "tfidf = TfidfVectorizer(ngram_range=(1,2), token_pattern='(?u)\\\\b\\\\w+\\\\b')\n",
    "text = [' '.join(doc) for doc in df['description']]\n",
    "tfidf.fit(text)\n",
    "dtm = tfidf.transform(text)\n",
    "dtm = pd.DataFrame(dtm.todense(), columns=tfidf.get_feature_names_out())"
   ]
  },
  {
   "cell_type": "code",
   "execution_count": 91,
   "id": "324dd764",
   "metadata": {},
   "outputs": [],
   "source": [
    "key_words = dtm.loc[:, dtm.columns.isin(ed_level + major + tools + hard_skills + soft_skills)]"
   ]
  },
  {
   "cell_type": "markdown",
   "id": "0b43ebea",
   "metadata": {},
   "source": [
    "# DF with keywords"
   ]
  },
  {
   "cell_type": "code",
   "execution_count": 92,
   "id": "fc00d250",
   "metadata": {},
   "outputs": [],
   "source": [
    "df_key = pd.concat([df, key_words], axis=1)"
   ]
  },
  {
   "cell_type": "code",
   "execution_count": 93,
   "id": "0f04c06f",
   "metadata": {},
   "outputs": [],
   "source": [
    "df_key.drop(['description', 'title'], axis=1, inplace=True)"
   ]
  },
  {
   "cell_type": "code",
   "execution_count": 94,
   "id": "3592dc0d",
   "metadata": {},
   "outputs": [
    {
     "data": {
      "text/html": [
       "<div>\n",
       "<style scoped>\n",
       "    .dataframe tbody tr th:only-of-type {\n",
       "        vertical-align: middle;\n",
       "    }\n",
       "\n",
       "    .dataframe tbody tr th {\n",
       "        vertical-align: top;\n",
       "    }\n",
       "\n",
       "    .dataframe thead th {\n",
       "        text-align: right;\n",
       "    }\n",
       "</style>\n",
       "<table border=\"1\" class=\"dataframe\">\n",
       "  <thead>\n",
       "    <tr style=\"text-align: right;\">\n",
       "      <th></th>\n",
       "      <th>ab</th>\n",
       "      <th>agile</th>\n",
       "      <th>ai</th>\n",
       "      <th>algorithm</th>\n",
       "      <th>analytical skill</th>\n",
       "      <th>attention detail</th>\n",
       "      <th>automation</th>\n",
       "      <th>aws</th>\n",
       "      <th>azure</th>\n",
       "      <th>bachelor</th>\n",
       "      <th>...</th>\n",
       "      <th>r</th>\n",
       "      <th>reporting</th>\n",
       "      <th>research</th>\n",
       "      <th>segmentation</th>\n",
       "      <th>sql</th>\n",
       "      <th>statistic</th>\n",
       "      <th>storytelling</th>\n",
       "      <th>tableau</th>\n",
       "      <th>team work</th>\n",
       "      <th>visualization</th>\n",
       "    </tr>\n",
       "    <tr>\n",
       "      <th>position</th>\n",
       "      <th></th>\n",
       "      <th></th>\n",
       "      <th></th>\n",
       "      <th></th>\n",
       "      <th></th>\n",
       "      <th></th>\n",
       "      <th></th>\n",
       "      <th></th>\n",
       "      <th></th>\n",
       "      <th></th>\n",
       "      <th></th>\n",
       "      <th></th>\n",
       "      <th></th>\n",
       "      <th></th>\n",
       "      <th></th>\n",
       "      <th></th>\n",
       "      <th></th>\n",
       "      <th></th>\n",
       "      <th></th>\n",
       "      <th></th>\n",
       "      <th></th>\n",
       "    </tr>\n",
       "  </thead>\n",
       "  <tbody>\n",
       "    <tr>\n",
       "      <th>data analyst</th>\n",
       "      <td>0.002983</td>\n",
       "      <td>0.003096</td>\n",
       "      <td>0.004362</td>\n",
       "      <td>0.000815</td>\n",
       "      <td>0.004535</td>\n",
       "      <td>0.004938</td>\n",
       "      <td>0.003958</td>\n",
       "      <td>0.001023</td>\n",
       "      <td>0.002404</td>\n",
       "      <td>0.004313</td>\n",
       "      <td>...</td>\n",
       "      <td>0.007112</td>\n",
       "      <td>0.011977</td>\n",
       "      <td>0.004218</td>\n",
       "      <td>0.002054</td>\n",
       "      <td>0.011595</td>\n",
       "      <td>0.005600</td>\n",
       "      <td>0.001729</td>\n",
       "      <td>0.009503</td>\n",
       "      <td>0.002891</td>\n",
       "      <td>0.011211</td>\n",
       "    </tr>\n",
       "    <tr>\n",
       "      <th>data scientist</th>\n",
       "      <td>0.002318</td>\n",
       "      <td>0.005574</td>\n",
       "      <td>0.008394</td>\n",
       "      <td>0.018985</td>\n",
       "      <td>0.001737</td>\n",
       "      <td>0.002043</td>\n",
       "      <td>0.002825</td>\n",
       "      <td>0.008828</td>\n",
       "      <td>0.005426</td>\n",
       "      <td>0.004143</td>\n",
       "      <td>...</td>\n",
       "      <td>0.008649</td>\n",
       "      <td>0.003750</td>\n",
       "      <td>0.010673</td>\n",
       "      <td>0.005390</td>\n",
       "      <td>0.008997</td>\n",
       "      <td>0.011822</td>\n",
       "      <td>0.000615</td>\n",
       "      <td>0.003671</td>\n",
       "      <td>0.002685</td>\n",
       "      <td>0.005245</td>\n",
       "    </tr>\n",
       "  </tbody>\n",
       "</table>\n",
       "<p>2 rows × 54 columns</p>\n",
       "</div>"
      ],
      "text/plain": [
       "                      ab     agile        ai  algorithm  analytical skill  \\\n",
       "position                                                                    \n",
       "data analyst    0.002983  0.003096  0.004362   0.000815          0.004535   \n",
       "data scientist  0.002318  0.005574  0.008394   0.018985          0.001737   \n",
       "\n",
       "                attention detail  automation       aws     azure  bachelor  \\\n",
       "position                                                                     \n",
       "data analyst            0.004938    0.003958  0.001023  0.002404  0.004313   \n",
       "data scientist          0.002043    0.002825  0.008828  0.005426  0.004143   \n",
       "\n",
       "                ...         r  reporting  research  segmentation       sql  \\\n",
       "position        ...                                                          \n",
       "data analyst    ...  0.007112   0.011977  0.004218      0.002054  0.011595   \n",
       "data scientist  ...  0.008649   0.003750  0.010673      0.005390  0.008997   \n",
       "\n",
       "                statistic  storytelling   tableau  team work  visualization  \n",
       "position                                                                     \n",
       "data analyst     0.005600      0.001729  0.009503   0.002891       0.011211  \n",
       "data scientist   0.011822      0.000615  0.003671   0.002685       0.005245  \n",
       "\n",
       "[2 rows x 54 columns]"
      ]
     },
     "execution_count": 94,
     "metadata": {},
     "output_type": "execute_result"
    }
   ],
   "source": [
    "df_key.groupby('position').agg('mean')"
   ]
  },
  {
   "cell_type": "code",
   "execution_count": 96,
   "id": "48f3eb2e",
   "metadata": {},
   "outputs": [],
   "source": [
    "df_key.to_csv('data/df_keys.csv', index=None, header=True)"
   ]
  },
  {
   "cell_type": "code",
   "execution_count": 97,
   "id": "7b51c5b6",
   "metadata": {},
   "outputs": [
    {
     "data": {
      "text/html": [
       "<div>\n",
       "<style scoped>\n",
       "    .dataframe tbody tr th:only-of-type {\n",
       "        vertical-align: middle;\n",
       "    }\n",
       "\n",
       "    .dataframe tbody tr th {\n",
       "        vertical-align: top;\n",
       "    }\n",
       "\n",
       "    .dataframe thead th {\n",
       "        text-align: right;\n",
       "    }\n",
       "</style>\n",
       "<table border=\"1\" class=\"dataframe\">\n",
       "  <thead>\n",
       "    <tr style=\"text-align: right;\">\n",
       "      <th></th>\n",
       "      <th>company</th>\n",
       "      <th>modality</th>\n",
       "      <th>position</th>\n",
       "      <th>seniority</th>\n",
       "      <th>ab</th>\n",
       "      <th>agile</th>\n",
       "      <th>ai</th>\n",
       "      <th>algorithm</th>\n",
       "      <th>analytical skill</th>\n",
       "      <th>attention detail</th>\n",
       "      <th>...</th>\n",
       "      <th>r</th>\n",
       "      <th>reporting</th>\n",
       "      <th>research</th>\n",
       "      <th>segmentation</th>\n",
       "      <th>sql</th>\n",
       "      <th>statistic</th>\n",
       "      <th>storytelling</th>\n",
       "      <th>tableau</th>\n",
       "      <th>team work</th>\n",
       "      <th>visualization</th>\n",
       "    </tr>\n",
       "  </thead>\n",
       "  <tbody>\n",
       "    <tr>\n",
       "      <th>0</th>\n",
       "      <td>TransPerfect</td>\n",
       "      <td>On-site</td>\n",
       "      <td>data analyst</td>\n",
       "      <td>unknown</td>\n",
       "      <td>0.0</td>\n",
       "      <td>0.000000</td>\n",
       "      <td>0.042066</td>\n",
       "      <td>0.000000</td>\n",
       "      <td>0.0</td>\n",
       "      <td>0.000000</td>\n",
       "      <td>...</td>\n",
       "      <td>0.00000</td>\n",
       "      <td>0.000000</td>\n",
       "      <td>0.000000</td>\n",
       "      <td>0.000000</td>\n",
       "      <td>0.000000</td>\n",
       "      <td>0.000000</td>\n",
       "      <td>0.0</td>\n",
       "      <td>0.000000</td>\n",
       "      <td>0.00000</td>\n",
       "      <td>0.000000</td>\n",
       "    </tr>\n",
       "    <tr>\n",
       "      <th>1</th>\n",
       "      <td>Essity</td>\n",
       "      <td>On-site</td>\n",
       "      <td>data analyst</td>\n",
       "      <td>unknown</td>\n",
       "      <td>0.0</td>\n",
       "      <td>0.000000</td>\n",
       "      <td>0.000000</td>\n",
       "      <td>0.000000</td>\n",
       "      <td>0.0</td>\n",
       "      <td>0.000000</td>\n",
       "      <td>...</td>\n",
       "      <td>0.00000</td>\n",
       "      <td>0.000000</td>\n",
       "      <td>0.000000</td>\n",
       "      <td>0.000000</td>\n",
       "      <td>0.000000</td>\n",
       "      <td>0.000000</td>\n",
       "      <td>0.0</td>\n",
       "      <td>0.000000</td>\n",
       "      <td>0.00000</td>\n",
       "      <td>0.000000</td>\n",
       "    </tr>\n",
       "    <tr>\n",
       "      <th>2</th>\n",
       "      <td>Glovo</td>\n",
       "      <td>On-site</td>\n",
       "      <td>data analyst</td>\n",
       "      <td>junior</td>\n",
       "      <td>0.0</td>\n",
       "      <td>0.000000</td>\n",
       "      <td>0.000000</td>\n",
       "      <td>0.000000</td>\n",
       "      <td>0.0</td>\n",
       "      <td>0.038231</td>\n",
       "      <td>...</td>\n",
       "      <td>0.00000</td>\n",
       "      <td>0.000000</td>\n",
       "      <td>0.000000</td>\n",
       "      <td>0.000000</td>\n",
       "      <td>0.019574</td>\n",
       "      <td>0.011530</td>\n",
       "      <td>0.0</td>\n",
       "      <td>0.013602</td>\n",
       "      <td>0.00000</td>\n",
       "      <td>0.012944</td>\n",
       "    </tr>\n",
       "    <tr>\n",
       "      <th>3</th>\n",
       "      <td>Essity</td>\n",
       "      <td>On-site</td>\n",
       "      <td>data analyst</td>\n",
       "      <td>unknown</td>\n",
       "      <td>0.0</td>\n",
       "      <td>0.017084</td>\n",
       "      <td>0.000000</td>\n",
       "      <td>0.000000</td>\n",
       "      <td>0.0</td>\n",
       "      <td>0.000000</td>\n",
       "      <td>...</td>\n",
       "      <td>0.00000</td>\n",
       "      <td>0.000000</td>\n",
       "      <td>0.000000</td>\n",
       "      <td>0.000000</td>\n",
       "      <td>0.000000</td>\n",
       "      <td>0.000000</td>\n",
       "      <td>0.0</td>\n",
       "      <td>0.000000</td>\n",
       "      <td>0.00000</td>\n",
       "      <td>0.000000</td>\n",
       "    </tr>\n",
       "    <tr>\n",
       "      <th>4</th>\n",
       "      <td>Preply</td>\n",
       "      <td>Unknown</td>\n",
       "      <td>data analyst</td>\n",
       "      <td>senior</td>\n",
       "      <td>0.0</td>\n",
       "      <td>0.000000</td>\n",
       "      <td>0.000000</td>\n",
       "      <td>0.000000</td>\n",
       "      <td>0.0</td>\n",
       "      <td>0.000000</td>\n",
       "      <td>...</td>\n",
       "      <td>0.00000</td>\n",
       "      <td>0.000000</td>\n",
       "      <td>0.000000</td>\n",
       "      <td>0.000000</td>\n",
       "      <td>0.011321</td>\n",
       "      <td>0.013337</td>\n",
       "      <td>0.0</td>\n",
       "      <td>0.015734</td>\n",
       "      <td>0.02569</td>\n",
       "      <td>0.000000</td>\n",
       "    </tr>\n",
       "    <tr>\n",
       "      <th>...</th>\n",
       "      <td>...</td>\n",
       "      <td>...</td>\n",
       "      <td>...</td>\n",
       "      <td>...</td>\n",
       "      <td>...</td>\n",
       "      <td>...</td>\n",
       "      <td>...</td>\n",
       "      <td>...</td>\n",
       "      <td>...</td>\n",
       "      <td>...</td>\n",
       "      <td>...</td>\n",
       "      <td>...</td>\n",
       "      <td>...</td>\n",
       "      <td>...</td>\n",
       "      <td>...</td>\n",
       "      <td>...</td>\n",
       "      <td>...</td>\n",
       "      <td>...</td>\n",
       "      <td>...</td>\n",
       "      <td>...</td>\n",
       "      <td>...</td>\n",
       "    </tr>\n",
       "    <tr>\n",
       "      <th>205</th>\n",
       "      <td>Babel</td>\n",
       "      <td>Remote</td>\n",
       "      <td>data scientist</td>\n",
       "      <td>senior</td>\n",
       "      <td>0.0</td>\n",
       "      <td>0.043456</td>\n",
       "      <td>0.000000</td>\n",
       "      <td>0.037606</td>\n",
       "      <td>0.0</td>\n",
       "      <td>0.000000</td>\n",
       "      <td>...</td>\n",
       "      <td>0.00000</td>\n",
       "      <td>0.000000</td>\n",
       "      <td>0.000000</td>\n",
       "      <td>0.000000</td>\n",
       "      <td>0.022025</td>\n",
       "      <td>0.051893</td>\n",
       "      <td>0.0</td>\n",
       "      <td>0.000000</td>\n",
       "      <td>0.00000</td>\n",
       "      <td>0.000000</td>\n",
       "    </tr>\n",
       "    <tr>\n",
       "      <th>206</th>\n",
       "      <td>Accenture España</td>\n",
       "      <td>On-site</td>\n",
       "      <td>data scientist</td>\n",
       "      <td>senior</td>\n",
       "      <td>0.0</td>\n",
       "      <td>0.000000</td>\n",
       "      <td>0.073148</td>\n",
       "      <td>0.000000</td>\n",
       "      <td>0.0</td>\n",
       "      <td>0.000000</td>\n",
       "      <td>...</td>\n",
       "      <td>0.01157</td>\n",
       "      <td>0.000000</td>\n",
       "      <td>0.000000</td>\n",
       "      <td>0.000000</td>\n",
       "      <td>0.000000</td>\n",
       "      <td>0.019241</td>\n",
       "      <td>0.0</td>\n",
       "      <td>0.000000</td>\n",
       "      <td>0.00000</td>\n",
       "      <td>0.000000</td>\n",
       "    </tr>\n",
       "    <tr>\n",
       "      <th>207</th>\n",
       "      <td>Solera, Inc.</td>\n",
       "      <td>Remote</td>\n",
       "      <td>data scientist</td>\n",
       "      <td>unknown</td>\n",
       "      <td>0.0</td>\n",
       "      <td>0.000000</td>\n",
       "      <td>0.042967</td>\n",
       "      <td>0.016381</td>\n",
       "      <td>0.0</td>\n",
       "      <td>0.000000</td>\n",
       "      <td>...</td>\n",
       "      <td>0.00000</td>\n",
       "      <td>0.000000</td>\n",
       "      <td>0.000000</td>\n",
       "      <td>0.021772</td>\n",
       "      <td>0.000000</td>\n",
       "      <td>0.000000</td>\n",
       "      <td>0.0</td>\n",
       "      <td>0.000000</td>\n",
       "      <td>0.00000</td>\n",
       "      <td>0.000000</td>\n",
       "    </tr>\n",
       "    <tr>\n",
       "      <th>208</th>\n",
       "      <td>Premier Research</td>\n",
       "      <td>Remote</td>\n",
       "      <td>data scientist</td>\n",
       "      <td>senior</td>\n",
       "      <td>0.0</td>\n",
       "      <td>0.000000</td>\n",
       "      <td>0.000000</td>\n",
       "      <td>0.000000</td>\n",
       "      <td>0.0</td>\n",
       "      <td>0.000000</td>\n",
       "      <td>...</td>\n",
       "      <td>0.00000</td>\n",
       "      <td>0.016663</td>\n",
       "      <td>0.095499</td>\n",
       "      <td>0.000000</td>\n",
       "      <td>0.000000</td>\n",
       "      <td>0.000000</td>\n",
       "      <td>0.0</td>\n",
       "      <td>0.000000</td>\n",
       "      <td>0.00000</td>\n",
       "      <td>0.000000</td>\n",
       "    </tr>\n",
       "    <tr>\n",
       "      <th>209</th>\n",
       "      <td>Zurich Insurance</td>\n",
       "      <td>Unknown</td>\n",
       "      <td>data scientist</td>\n",
       "      <td>senior</td>\n",
       "      <td>0.0</td>\n",
       "      <td>0.000000</td>\n",
       "      <td>0.000000</td>\n",
       "      <td>0.000000</td>\n",
       "      <td>0.0</td>\n",
       "      <td>0.000000</td>\n",
       "      <td>...</td>\n",
       "      <td>0.00000</td>\n",
       "      <td>0.000000</td>\n",
       "      <td>0.020504</td>\n",
       "      <td>0.083730</td>\n",
       "      <td>0.012299</td>\n",
       "      <td>0.014489</td>\n",
       "      <td>0.0</td>\n",
       "      <td>0.017093</td>\n",
       "      <td>0.00000</td>\n",
       "      <td>0.000000</td>\n",
       "    </tr>\n",
       "  </tbody>\n",
       "</table>\n",
       "<p>210 rows × 58 columns</p>\n",
       "</div>"
      ],
      "text/plain": [
       "              company modality        position seniority   ab     agile  \\\n",
       "0        TransPerfect  On-site    data analyst   unknown  0.0  0.000000   \n",
       "1              Essity  On-site    data analyst   unknown  0.0  0.000000   \n",
       "2               Glovo  On-site    data analyst    junior  0.0  0.000000   \n",
       "3              Essity  On-site    data analyst   unknown  0.0  0.017084   \n",
       "4              Preply  Unknown    data analyst    senior  0.0  0.000000   \n",
       "..                ...      ...             ...       ...  ...       ...   \n",
       "205             Babel   Remote  data scientist    senior  0.0  0.043456   \n",
       "206  Accenture España  On-site  data scientist    senior  0.0  0.000000   \n",
       "207      Solera, Inc.   Remote  data scientist   unknown  0.0  0.000000   \n",
       "208  Premier Research   Remote  data scientist    senior  0.0  0.000000   \n",
       "209  Zurich Insurance  Unknown  data scientist    senior  0.0  0.000000   \n",
       "\n",
       "           ai  algorithm  analytical skill  attention detail  ...        r  \\\n",
       "0    0.042066   0.000000               0.0          0.000000  ...  0.00000   \n",
       "1    0.000000   0.000000               0.0          0.000000  ...  0.00000   \n",
       "2    0.000000   0.000000               0.0          0.038231  ...  0.00000   \n",
       "3    0.000000   0.000000               0.0          0.000000  ...  0.00000   \n",
       "4    0.000000   0.000000               0.0          0.000000  ...  0.00000   \n",
       "..        ...        ...               ...               ...  ...      ...   \n",
       "205  0.000000   0.037606               0.0          0.000000  ...  0.00000   \n",
       "206  0.073148   0.000000               0.0          0.000000  ...  0.01157   \n",
       "207  0.042967   0.016381               0.0          0.000000  ...  0.00000   \n",
       "208  0.000000   0.000000               0.0          0.000000  ...  0.00000   \n",
       "209  0.000000   0.000000               0.0          0.000000  ...  0.00000   \n",
       "\n",
       "     reporting  research  segmentation       sql  statistic  storytelling  \\\n",
       "0     0.000000  0.000000      0.000000  0.000000   0.000000           0.0   \n",
       "1     0.000000  0.000000      0.000000  0.000000   0.000000           0.0   \n",
       "2     0.000000  0.000000      0.000000  0.019574   0.011530           0.0   \n",
       "3     0.000000  0.000000      0.000000  0.000000   0.000000           0.0   \n",
       "4     0.000000  0.000000      0.000000  0.011321   0.013337           0.0   \n",
       "..         ...       ...           ...       ...        ...           ...   \n",
       "205   0.000000  0.000000      0.000000  0.022025   0.051893           0.0   \n",
       "206   0.000000  0.000000      0.000000  0.000000   0.019241           0.0   \n",
       "207   0.000000  0.000000      0.021772  0.000000   0.000000           0.0   \n",
       "208   0.016663  0.095499      0.000000  0.000000   0.000000           0.0   \n",
       "209   0.000000  0.020504      0.083730  0.012299   0.014489           0.0   \n",
       "\n",
       "      tableau  team work  visualization  \n",
       "0    0.000000    0.00000       0.000000  \n",
       "1    0.000000    0.00000       0.000000  \n",
       "2    0.013602    0.00000       0.012944  \n",
       "3    0.000000    0.00000       0.000000  \n",
       "4    0.015734    0.02569       0.000000  \n",
       "..        ...        ...            ...  \n",
       "205  0.000000    0.00000       0.000000  \n",
       "206  0.000000    0.00000       0.000000  \n",
       "207  0.000000    0.00000       0.000000  \n",
       "208  0.000000    0.00000       0.000000  \n",
       "209  0.017093    0.00000       0.000000  \n",
       "\n",
       "[210 rows x 58 columns]"
      ]
     },
     "execution_count": 97,
     "metadata": {},
     "output_type": "execute_result"
    }
   ],
   "source": [
    "test = pd.read_csv('../data/keywords.csv')\n",
    "test"
   ]
  },
  {
   "cell_type": "markdown",
   "id": "fc8f92ce",
   "metadata": {},
   "source": [
    "## To Tableau with that!"
   ]
  },
  {
   "cell_type": "markdown",
   "id": "62f32ff6",
   "metadata": {},
   "source": [
    "# Industries\n",
    " Extracted from Glassdoor in another notebook"
   ]
  }
 ],
 "metadata": {
  "kernelspec": {
   "display_name": "Python 3 (ipykernel)",
   "language": "python",
   "name": "python3"
  },
  "language_info": {
   "codemirror_mode": {
    "name": "ipython",
    "version": 3
   },
   "file_extension": ".py",
   "mimetype": "text/x-python",
   "name": "python",
   "nbconvert_exporter": "python",
   "pygments_lexer": "ipython3",
   "version": "3.9.12"
  },
  "toc": {
   "base_numbering": 1,
   "nav_menu": {},
   "number_sections": true,
   "sideBar": true,
   "skip_h1_title": false,
   "title_cell": "Table of Contents",
   "title_sidebar": "Contents",
   "toc_cell": false,
   "toc_position": {
    "height": "calc(100% - 180px)",
    "left": "10px",
    "top": "150px",
    "width": "256px"
   },
   "toc_section_display": true,
   "toc_window_display": true
  }
 },
 "nbformat": 4,
 "nbformat_minor": 5
}
