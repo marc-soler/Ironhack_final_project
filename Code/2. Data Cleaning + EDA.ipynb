{
 "cells": [
  {
   "cell_type": "markdown",
   "id": "62ca0818",
   "metadata": {},
   "source": [
    "# Insights\n",
    "- Location of the jobs\n",
    "- Top hiring companies\n",
    "- True proportion of data analysts vs. scientists\n",
    "- Percentage of overlapped job positions\n",
    "- Proportion of seniority"
   ]
  },
  {
   "cell_type": "markdown",
   "id": "7e1e4a9e",
   "metadata": {},
   "source": [
    "# Importing libraries"
   ]
  },
  {
   "cell_type": "code",
   "execution_count": 1,
   "id": "d67ecf0b",
   "metadata": {},
   "outputs": [],
   "source": [
    "import re\n",
    "import sys\n",
    "import nltk\n",
    "import unidecode\n",
    "import numpy as np\n",
    "import pandas as pd\n",
    "import seaborn as sns\n",
    "from nltk import Text\n",
    "from textblob import TextBlob\n",
    "from langdetect import detect\n",
    "from collections import Counter\n",
    "import matplotlib.pyplot as plt\n",
    "from wordcloud import WordCloud\n",
    "from nltk.corpus import stopwords\n",
    "from googletrans import Translator\n",
    "from nltk.stem import WordNetLemmatizer\n",
    "from nltk.tokenize import word_tokenize, RegexpTokenizer\n",
    "from sklearn.feature_extraction.text import CountVectorizer, TfidfVectorizer\n",
    "%matplotlib inline\n",
    "pd.set_option('display.max_colwidth', None)"
   ]
  },
  {
   "cell_type": "markdown",
   "id": "356493da",
   "metadata": {},
   "source": [
    "# Importing the data"
   ]
  },
  {
   "cell_type": "code",
   "execution_count": 5,
   "id": "345d57e9",
   "metadata": {},
   "outputs": [],
   "source": [
    "df = pd.read_csv('../data/analyst_scientist_bcn_last_month.csv')"
   ]
  },
  {
   "cell_type": "markdown",
   "id": "63c57a1c",
   "metadata": {},
   "source": [
    "# Removing duplicate job offers (different locations only)"
   ]
  },
  {
   "cell_type": "code",
   "execution_count": 6,
   "id": "1e60af2f",
   "metadata": {},
   "outputs": [],
   "source": [
    "df.drop([159, 163, 207], inplace=True)\n",
    "df.reset_index(drop=True, inplace=True)"
   ]
  },
  {
   "cell_type": "markdown",
   "id": "3f5ab047",
   "metadata": {},
   "source": [
    "# Categorization of positions"
   ]
  },
  {
   "cell_type": "markdown",
   "id": "52c996ef",
   "metadata": {},
   "source": [
    "## Proportion of job positions raw"
   ]
  },
  {
   "cell_type": "code",
   "execution_count": 7,
   "id": "540755a1",
   "metadata": {},
   "outputs": [
    {
     "name": "stdout",
     "output_type": "stream",
     "text": [
      "Analysts: 35%\n",
      "Scientists: 25%\n",
      "Engineers: 39%\n"
     ]
    }
   ],
   "source": [
    "df['title'] = df['title'].str.lower()\n",
    "analysts = len(df[df['title'].str.contains(\"anal\")])\n",
    "scientists = len(df[df['title'].str.contains(\"scien\")])\n",
    "engineers = len(df[df['title'].str.contains(\"engine\")])\n",
    "print(f'Analysts: {round(analysts/df.shape[0]*100)}%')\n",
    "print(f'Scientists: {round(scientists/df.shape[0]*100)}%')\n",
    "print(f'Engineers: {round(engineers/df.shape[0]*100)}%')"
   ]
  },
  {
   "cell_type": "markdown",
   "id": "8f8be4f8",
   "metadata": {},
   "source": [
    "## Overlapped job offers (cointaining analyst + scientist)"
   ]
  },
  {
   "cell_type": "code",
   "execution_count": 8,
   "id": "cc3297d8",
   "metadata": {},
   "outputs": [
    {
     "name": "stdout",
     "output_type": "stream",
     "text": [
      "12 job positions are overlapped, 5% of all Data Analyst & Data Scientist positions.\n"
     ]
    }
   ],
   "source": [
    "n = 0\n",
    "overlapped = []\n",
    "for index, job in df['title'].iteritems():\n",
    "    if 'scien' in job and 'anal' in job:\n",
    "        n += 1\n",
    "        overlapped.append(index)\n",
    "per = round(n/(analysts+scientists)*100)\n",
    "print(f'{n} job positions are overlapped, {per}% of all Data Analyst & Data Scientist positions.')"
   ]
  },
  {
   "cell_type": "code",
   "execution_count": 9,
   "id": "76721864",
   "metadata": {},
   "outputs": [
    {
     "data": {
      "text/plain": [
       "17                                     game data analyst/scientist\n",
       "24                  data scientist – marketing & network analytics\n",
       "37                                   senior data analyst/scientist\n",
       "72            game data scientist/analyst - barcelona gaming giant\n",
       "86                 global analytics, data and automation scientist\n",
       "108                  digital marketing data analyst/data scientist\n",
       "150                 senior data analyst / data scientist : pricing\n",
       "162                      senior data analyst / data scientist : ua\n",
       "176                 senior data analyst / data scientist : courses\n",
       "296    large format marketing data science & business analyst lead\n",
       "373                      senior data scientist - pricing analytics\n",
       "382                                      data scientist, analytics\n",
       "Name: title, dtype: object"
      ]
     },
     "execution_count": 9,
     "metadata": {},
     "output_type": "execute_result"
    }
   ],
   "source": [
    "df.iloc[overlapped, 0]"
   ]
  },
  {
   "cell_type": "markdown",
   "id": "910a6354",
   "metadata": {},
   "source": [
    "### Manual categorization of overlapped job position titles"
   ]
  },
  {
   "cell_type": "markdown",
   "id": "56b8d204",
   "metadata": {},
   "source": [
    "Manual categorization after reading the descriptions:  \n",
    "17: analyst  \n",
    "37: analyst  \n",
    "72: analyst  \n",
    "86: scientist  \n",
    "108: analyst  \n",
    "150: analyst  \n",
    "162: analyst  \n",
    "176: analyst  "
   ]
  },
  {
   "cell_type": "code",
   "execution_count": 10,
   "id": "f67f8015",
   "metadata": {},
   "outputs": [],
   "source": [
    "# Changing titles for categorization\n",
    "df.iloc[17, 0] = 'game data analyst'\n",
    "df.iloc[37, 0] = 'senior data analyst'\n",
    "df.iloc[72, 0] = 'game data analyst - barcelona gaming giant'\n",
    "df.iloc[86, 0] = 'data and automation scientist'\n",
    "df.iloc[108, 0] = 'digital marketing data analyst'\n",
    "df.iloc[150, 0] = 'senior data analyst : pricing'\n",
    "df.iloc[162, 0] = 'senior data analyst : ua'\n",
    "df.iloc[176, 0] = 'senior data analyst : courses'"
   ]
  },
  {
   "cell_type": "markdown",
   "id": "da22ecd3",
   "metadata": {},
   "source": [
    "## Categorizing job position and dropping irrelevant ones"
   ]
  },
  {
   "cell_type": "code",
   "execution_count": 11,
   "id": "358e3264",
   "metadata": {},
   "outputs": [],
   "source": [
    "category = []\n",
    "dropped = []\n",
    "for index, position in df['title'].iteritems():\n",
    "    if \"data scien\" in position:\n",
    "        category.append('data scientist')\n",
    "    elif \"data anal\" in position:\n",
    "        category.append('data analyst')\n",
    "    else:\n",
    "        dropped.append(index)\n",
    "\n",
    "df.drop(dropped, inplace=True)\n",
    "df.reset_index(inplace=True, drop=True)\n",
    "df['position'] = category"
   ]
  },
  {
   "cell_type": "markdown",
   "id": "e956527f",
   "metadata": {},
   "source": [
    "# Exploring the data before cleaning it"
   ]
  },
  {
   "cell_type": "markdown",
   "id": "0677741f",
   "metadata": {},
   "source": [
    "## Proportion of job positions"
   ]
  },
  {
   "cell_type": "code",
   "execution_count": 12,
   "id": "c12f1b81",
   "metadata": {},
   "outputs": [
    {
     "data": {
      "text/plain": [
       "data analyst      119\n",
       "data scientist     91\n",
       "Name: position, dtype: int64"
      ]
     },
     "execution_count": 12,
     "metadata": {},
     "output_type": "execute_result"
    }
   ],
   "source": [
    "df['position'].value_counts()"
   ]
  },
  {
   "cell_type": "code",
   "execution_count": 13,
   "id": "d948cf78",
   "metadata": {},
   "outputs": [
    {
     "name": "stdout",
     "output_type": "stream",
     "text": [
      "Analysts: 57%\n",
      "Scientists: 43%\n"
     ]
    }
   ],
   "source": [
    "print(f\"Analysts: {round(len(df[df['position'] == 'data analyst'])/df.shape[0]*100)}%\")\n",
    "print(f\"Scientists: {round(len(df[df['position'] == 'data scientist'])/df.shape[0]*100)}%\")"
   ]
  },
  {
   "cell_type": "markdown",
   "id": "9ec08f73",
   "metadata": {},
   "source": [
    "## Location"
   ]
  },
  {
   "cell_type": "code",
   "execution_count": 11,
   "id": "05ae5c54",
   "metadata": {},
   "outputs": [
    {
     "data": {
      "text/plain": [
       "Unknown    59\n",
       "On-site    57\n",
       "Hybrid     49\n",
       "Remote     45\n",
       "Name: modality, dtype: int64"
      ]
     },
     "execution_count": 11,
     "metadata": {},
     "output_type": "execute_result"
    }
   ],
   "source": [
    "df['modality'].value_counts()"
   ]
  },
  {
   "cell_type": "markdown",
   "id": "bf4fa568",
   "metadata": {},
   "source": [
    "## Top hiring companies"
   ]
  },
  {
   "cell_type": "code",
   "execution_count": 12,
   "id": "eec74d85",
   "metadata": {},
   "outputs": [
    {
     "data": {
      "text/plain": [
       "Glovo                                 19\n",
       "eDreams ODIGEO                         7\n",
       "Accenture España                       6\n",
       "Zurich Insurance                       6\n",
       "HP                                     6\n",
       "                                      ..\n",
       "Vertex Professional Services (VPS)     1\n",
       "Cofidis España                         1\n",
       "PPG                                    1\n",
       "ZF Group                               1\n",
       "Premier Research                       1\n",
       "Name: company, Length: 127, dtype: int64"
      ]
     },
     "execution_count": 12,
     "metadata": {},
     "output_type": "execute_result"
    }
   ],
   "source": [
    "df['company'].value_counts()"
   ]
  },
  {
   "cell_type": "markdown",
   "id": "e24cb199",
   "metadata": {},
   "source": [
    "## Average length of descriptions"
   ]
  },
  {
   "cell_type": "code",
   "execution_count": 13,
   "id": "e394403d",
   "metadata": {},
   "outputs": [
    {
     "name": "stdout",
     "output_type": "stream",
     "text": [
      "Average: 574\n",
      "Analysts: 575\n",
      "Scientists: 577\n"
     ]
    }
   ],
   "source": [
    "total = round(df['description'].str.split().apply(len).mean())\n",
    "analysts = round(df[df['title'].str.contains(\"anal\")]['description'].str.split().apply(len).mean())\n",
    "scientists = round(df[df['title'].str.contains(\"scien\")]['description'].str.split().apply(len).mean())\n",
    "print(f'Average: {total}')\n",
    "print(f'Analysts: {analysts}')\n",
    "print(f'Scientists: {scientists}')"
   ]
  },
  {
   "cell_type": "markdown",
   "id": "63cd41c9",
   "metadata": {},
   "source": [
    "# Cleaning"
   ]
  },
  {
   "cell_type": "markdown",
   "id": "73ad968b",
   "metadata": {},
   "source": [
    "## Dropping the location column"
   ]
  },
  {
   "cell_type": "code",
   "execution_count": 14,
   "id": "d086a9d8",
   "metadata": {},
   "outputs": [],
   "source": [
    "df.drop('location', axis=1, inplace=True)"
   ]
  },
  {
   "cell_type": "markdown",
   "id": "977661e5",
   "metadata": {},
   "source": [
    "## Descriptions"
   ]
  },
  {
   "cell_type": "code",
   "execution_count": 15,
   "id": "b8999df5",
   "metadata": {},
   "outputs": [],
   "source": [
    "# Replacing line jumps with spaces\n",
    "df['description'] = df['description'].str.replace('\\n', ' ')\n",
    "# Deleting hyphens & ¿\n",
    "df['description'] = df['description'].map(lambda x: x.replace('-', '').replace('¿', ''))\n",
    "# Normalising words (no accents, etc.)\n",
    "df['description'] = df['description'].map(lambda x: unidecode.unidecode(x))\n",
    "# Adding a space in a word if it contains a capitalised letter in between\n",
    "df['description'] = df['description'].map(lambda x: re.sub(r\"(?<![A-Z])(?<!^)([A-Z])\",r\" \\1\", x))\n",
    "# Adding spaces before and after numbers\n",
    "df['description'] = df['description'].map(lambda x: re.sub(r\"([0-9]+(\\.[0-9]+)?)\", r\" \\1\", x))\n",
    "# Substitute n number of spaces by just one space\n",
    "df['description'] = df['description'].map(lambda x: ' '.join(x.split()))\n",
    "# Remove spaces before dots and after opening parenthesis\n",
    "df['description'] = df['description'].map(lambda x: x.replace('( ', '(').replace(' .', '.').replace('/ ', '/'))\n",
    "# Fixing some problems with the normalisation\n",
    "df['description'] = df['description'].map(lambda x: x.replace('ano', 'año').replace('anos', 'años'))\n",
    "# Translating the job offers in spanish\n",
    "df['description'] = df['description'].map(lambda x: str(TextBlob(x).translate(to='en'))if detect(x) == 'es' else x)"
   ]
  },
  {
   "cell_type": "markdown",
   "id": "950c4cf6",
   "metadata": {},
   "source": [
    "# Tokenizing the descriptions + removing stopwords & other things"
   ]
  },
  {
   "cell_type": "code",
   "execution_count": 16,
   "id": "8c416ddf",
   "metadata": {},
   "outputs": [],
   "source": [
    "# Tokenising + lowercase + removing punctuation\n",
    "tokenizer = RegexpTokenizer(r'\\w+')\n",
    "df['description'] = df['description'].map(lambda x: tokenizer.tokenize(x.lower()))\n",
    "# Removing stopwords\n",
    "stop_words = stopwords.words('english')\n",
    "for index, des in df['description'].iteritems():\n",
    "    df.iloc[index, 3] =  [w for w in des if not w in stop_words]\n",
    "# Lemmatization\n",
    "def lemma(text):\n",
    "    return [WordNetLemmatizer().lemmatize(w) for w in text]\n",
    "df['description'] = df['description'].apply(lemma)"
   ]
  },
  {
   "cell_type": "markdown",
   "id": "19a9c284",
   "metadata": {},
   "source": [
    "# Tokenizing the titles + removing stopwords & other things"
   ]
  },
  {
   "cell_type": "code",
   "execution_count": 17,
   "id": "6e7025be",
   "metadata": {},
   "outputs": [],
   "source": [
    "# Tokenising + lowercase + removing punctuation\n",
    "df['title'] = df['title'].map(lambda x: tokenizer.tokenize(x.lower()))\n",
    "# Removing stopwords\n",
    "for index, title in df['title'].iteritems():\n",
    "    df.iloc[index, 0] =  [w for w in title if not w in stop_words]"
   ]
  },
  {
   "cell_type": "markdown",
   "id": "eed9df94",
   "metadata": {},
   "source": [
    "# NLTK objects for titles & descriptions"
   ]
  },
  {
   "cell_type": "code",
   "execution_count": 19,
   "id": "550b28b8",
   "metadata": {},
   "outputs": [],
   "source": [
    "# titles\n",
    "all_titles = []\n",
    "for title in df['title']:\n",
    "    for word in title:\n",
    "        all_titles.append(word)\n",
    "titles = Text(all_titles)"
   ]
  },
  {
   "cell_type": "code",
   "execution_count": 49,
   "id": "6c7176b1",
   "metadata": {},
   "outputs": [],
   "source": [
    "for index, d in df['description'].iteritems():\n",
    "    d = [w.replace('visualisation', 'visualization') for w in d]\n",
    "    d = [w.replace('modelling', 'modeling') for w in d]\n",
    "    d = [w.replace('artificial intelligence', 'ai') for w in d]\n",
    "    d = [w.replace('dashboarding', 'dashboard') for w in d]\n",
    "    d = [w.replace('kpis', 'kpi') for w in d]\n",
    "    d = [w.replace('report', 'reporting') for w in d]\n",
    "    d = [w.replace('predict', 'prediction') for w in d]\n",
    "    d = [w.replace('creative', 'creativity') for w in d]\n",
    "    df['description'][index] = d"
   ]
  },
  {
   "cell_type": "code",
   "execution_count": 52,
   "id": "3ca04ed2",
   "metadata": {},
   "outputs": [],
   "source": [
    "# descriptions\n",
    "all_des = []\n",
    "all_wrds = []\n",
    "for des in df['description']:\n",
    "    all_des.append(des)\n",
    "    for word in des:\n",
    "        all_wrds.append(word)\n",
    "all_wrds = [w.replace('visualisation', 'visualization') for w in all_wrds]\n",
    "all_wrds = [w.replace('modelling', 'modeling') for w in all_wrds]\n",
    "all_wrds = [w.replace('artificial intelligence', 'ai') for w in all_wrds]\n",
    "all_wrds = [w.replace('dashboarding', 'dashboard') for w in all_wrds]\n",
    "all_wrds = [w.replace('kpis', 'kpi') for w in all_wrds]\n",
    "all_wrds = [w.replace('report', 'reporting') for w in all_wrds]\n",
    "all_wrds = [w.replace('predict', 'prediction') for w in all_wrds]\n",
    "all_wrds = [w.replace('creative', 'creativity') for w in all_wrds]\n",
    "for l in all_wrds:\n",
    "    if l == 'team' and all_wrds[all_wrds.index(l) + 1] == 'working':\n",
    "        all_wrds[all_wrds.index(l) + 1] = 'work'\n",
    "descriptions = Text(all_wrds)"
   ]
  },
  {
   "cell_type": "code",
   "execution_count": 21,
   "id": "c17b34f6",
   "metadata": {},
   "outputs": [],
   "source": [
    "# descriptions seggregated by job position\n",
    "all_des_a = []\n",
    "all_des_s = []\n",
    "for des in df[df['position'] == 'data analyst']['description']:\n",
    "    for word in des:\n",
    "        all_des_a.append(word)\n",
    "for des in df[df['position'] == 'data scientist']['description']:\n",
    "    for word in des:\n",
    "        all_des_s.append(word)\n",
    "\n",
    "descriptions_a = Text(all_des_a)\n",
    "descriptions_s = Text(all_des_s)"
   ]
  },
  {
   "cell_type": "code",
   "execution_count": 101,
   "id": "1c899b69",
   "metadata": {},
   "outputs": [],
   "source": [
    "df['company'].to_csv('companies.csv', index=None, header=True)"
   ]
  },
  {
   "cell_type": "markdown",
   "id": "b340f381",
   "metadata": {},
   "source": [
    "# Seniority"
   ]
  },
  {
   "cell_type": "code",
   "execution_count": 23,
   "id": "ab2617a9",
   "metadata": {},
   "outputs": [
    {
     "name": "stdout",
     "output_type": "stream",
     "text": [
      "44\n",
      "7\n"
     ]
    }
   ],
   "source": [
    "# Simple search in the titles\n",
    "srt = 0\n",
    "jrt = 0\n",
    "for title in df['title']:\n",
    "    if 'senior' in title or 'sr' in title:\n",
    "        srt += 1\n",
    "    elif 'junior' in title or 'jr' in title:\n",
    "        jrt += 1\n",
    "\n",
    "print(srt)\n",
    "print(jrt)"
   ]
  },
  {
   "cell_type": "code",
   "execution_count": 24,
   "id": "8be33343",
   "metadata": {},
   "outputs": [
    {
     "name": "stdout",
     "output_type": "stream",
     "text": [
      "53\n",
      "13\n"
     ]
    }
   ],
   "source": [
    "# Simple search in the description\n",
    "sr = 0\n",
    "jr = 0\n",
    "\n",
    "for des in df['description']:\n",
    "    if 'senior' in des or 'sr' in des:\n",
    "        sr += 1\n",
    "    elif 'junior' in des:\n",
    "        jr += 1\n",
    "\n",
    "print(sr)\n",
    "print(jr)"
   ]
  },
  {
   "cell_type": "markdown",
   "id": "e5d192a8",
   "metadata": {},
   "source": [
    "## Segmenting by seniority"
   ]
  },
  {
   "cell_type": "code",
   "execution_count": 25,
   "id": "40935c77",
   "metadata": {},
   "outputs": [],
   "source": [
    "seniority = []\n",
    "for des in df['description']:\n",
    "    if 'senior' in des or 'sr' in des:\n",
    "        seniority.append('senior')\n",
    "    elif 'junior' in des:\n",
    "        seniority.append('junior')\n",
    "    else:\n",
    "        try:\n",
    "            s = Text(des).concordance_list('year')[0]\n",
    "            try:\n",
    "                y = int(s[0][-1])\n",
    "                if y < 4:\n",
    "                    seniority.append('junior')\n",
    "                else:\n",
    "                    seniority.append('senior')\n",
    "            except ValueError:\n",
    "                seniority.append('unknown')\n",
    "        except IndexError:\n",
    "            seniority.append('unknown')"
   ]
  },
  {
   "cell_type": "code",
   "execution_count": 26,
   "id": "c6bed28a",
   "metadata": {},
   "outputs": [
    {
     "data": {
      "text/plain": [
       "senior     83\n",
       "junior     64\n",
       "unknown    63\n",
       "Name: seniority, dtype: int64"
      ]
     },
     "execution_count": 26,
     "metadata": {},
     "output_type": "execute_result"
    }
   ],
   "source": [
    "df['seniority'] = seniority\n",
    "df['seniority'].value_counts()"
   ]
  },
  {
   "cell_type": "markdown",
   "id": "825eff83",
   "metadata": {},
   "source": [
    "# Keywords"
   ]
  },
  {
   "cell_type": "markdown",
   "id": "dd63e4a8",
   "metadata": {},
   "source": [
    "## Education level"
   ]
  },
  {
   "cell_type": "code",
   "execution_count": 27,
   "id": "5433a517",
   "metadata": {},
   "outputs": [],
   "source": [
    "ed_level = ['bachelor', 'master', 'ph']"
   ]
  },
  {
   "cell_type": "markdown",
   "id": "d76030d5",
   "metadata": {},
   "source": [
    "## Major"
   ]
  },
  {
   "cell_type": "code",
   "execution_count": 28,
   "id": "e8bb1535",
   "metadata": {},
   "outputs": [],
   "source": [
    "major = ['quantitative', 'computer science', 'engineering', 'mathematics','statistic','economics']"
   ]
  },
  {
   "cell_type": "markdown",
   "id": "fb157aad",
   "metadata": {},
   "source": [
    "## Tools"
   ]
  },
  {
   "cell_type": "code",
   "execution_count": 29,
   "id": "1d9cba5d",
   "metadata": {},
   "outputs": [],
   "source": [
    "tools = ['python', 'r', 'sql', 'excel', 'tableau', 'power bi', 'qlik', 'aws', 'azure', 'looker',\n",
    "        'agile']"
   ]
  },
  {
   "cell_type": "markdown",
   "id": "016bd72a",
   "metadata": {},
   "source": [
    "## Hard skills"
   ]
  },
  {
   "cell_type": "code",
   "execution_count": 3,
   "id": "3072bd64",
   "metadata": {},
   "outputs": [],
   "source": [
    "hard_skills = ['programming', 'machine learning','visualization',\n",
    "               'modeling','research','deep learning', 'analytical skill',\n",
    "               'optimization', 'automation', 'ab', 'ai', 'dashboard',\n",
    "               'kpi', 'big data', 'data mining', 'etl', 'reporting', 'segmentation',\n",
    "               'business intelligence', 'natural language', 'prediction', 'algorithm']"
   ]
  },
  {
   "cell_type": "markdown",
   "id": "2da57f1a",
   "metadata": {},
   "source": [
    "## Soft skills"
   ]
  },
  {
   "cell_type": "code",
   "execution_count": 1,
   "id": "fab5ec7f",
   "metadata": {},
   "outputs": [],
   "source": [
    "soft_skills = ['communication', 'team work', 'presentation', 'storytelling', 'decision making',\n",
    "              'creativity', 'curiosity', 'leadership', 'problem solving', 'attention detail',\n",
    "              'motivation', 'proactive']"
   ]
  },
  {
   "cell_type": "markdown",
   "id": "63f3a96a",
   "metadata": {},
   "source": [
    "## Keyword extraction"
   ]
  },
  {
   "cell_type": "code",
   "execution_count": 88,
   "id": "bfd1fe92",
   "metadata": {},
   "outputs": [],
   "source": [
    "tfidf = TfidfVectorizer(ngram_range=(1,2), token_pattern='(?u)\\\\b\\\\w+\\\\b')\n",
    "text = [' '.join(doc) for doc in df['description']]\n",
    "tfidf.fit(text)\n",
    "dtm = tfidf.transform(text)\n",
    "dtm = pd.DataFrame(dtm.todense(), columns=tfidf.get_feature_names_out())"
   ]
  },
  {
   "cell_type": "code",
   "execution_count": 91,
   "id": "324dd764",
   "metadata": {},
   "outputs": [],
   "source": [
    "key_words = dtm.loc[:, dtm.columns.isin(ed_level + major + tools + hard_skills + soft_skills)]"
   ]
  },
  {
   "cell_type": "markdown",
   "id": "0b43ebea",
   "metadata": {},
   "source": [
    "# DF with keywords"
   ]
  },
  {
   "cell_type": "code",
   "execution_count": 92,
   "id": "fc00d250",
   "metadata": {},
   "outputs": [],
   "source": [
    "df_key = pd.concat([df, key_words], axis=1)"
   ]
  },
  {
   "cell_type": "code",
   "execution_count": 93,
   "id": "0f04c06f",
   "metadata": {},
   "outputs": [],
   "source": [
    "df_key.drop(['description', 'title'], axis=1, inplace=True)"
   ]
  },
  {
   "cell_type": "code",
   "execution_count": 94,
   "id": "3592dc0d",
   "metadata": {},
   "outputs": [
    {
     "data": {
      "text/html": [
       "<div>\n",
       "<style scoped>\n",
       "    .dataframe tbody tr th:only-of-type {\n",
       "        vertical-align: middle;\n",
       "    }\n",
       "\n",
       "    .dataframe tbody tr th {\n",
       "        vertical-align: top;\n",
       "    }\n",
       "\n",
       "    .dataframe thead th {\n",
       "        text-align: right;\n",
       "    }\n",
       "</style>\n",
       "<table border=\"1\" class=\"dataframe\">\n",
       "  <thead>\n",
       "    <tr style=\"text-align: right;\">\n",
       "      <th></th>\n",
       "      <th>ab</th>\n",
       "      <th>agile</th>\n",
       "      <th>ai</th>\n",
       "      <th>algorithm</th>\n",
       "      <th>analytical skill</th>\n",
       "      <th>attention detail</th>\n",
       "      <th>automation</th>\n",
       "      <th>aws</th>\n",
       "      <th>azure</th>\n",
       "      <th>bachelor</th>\n",
       "      <th>...</th>\n",
       "      <th>r</th>\n",
       "      <th>reporting</th>\n",
       "      <th>research</th>\n",
       "      <th>segmentation</th>\n",
       "      <th>sql</th>\n",
       "      <th>statistic</th>\n",
       "      <th>storytelling</th>\n",
       "      <th>tableau</th>\n",
       "      <th>team work</th>\n",
       "      <th>visualization</th>\n",
       "    </tr>\n",
       "    <tr>\n",
       "      <th>position</th>\n",
       "      <th></th>\n",
       "      <th></th>\n",
       "      <th></th>\n",
       "      <th></th>\n",
       "      <th></th>\n",
       "      <th></th>\n",
       "      <th></th>\n",
       "      <th></th>\n",
       "      <th></th>\n",
       "      <th></th>\n",
       "      <th></th>\n",
       "      <th></th>\n",
       "      <th></th>\n",
       "      <th></th>\n",
       "      <th></th>\n",
       "      <th></th>\n",
       "      <th></th>\n",
       "      <th></th>\n",
       "      <th></th>\n",
       "      <th></th>\n",
       "      <th></th>\n",
       "    </tr>\n",
       "  </thead>\n",
       "  <tbody>\n",
       "    <tr>\n",
       "      <th>data analyst</th>\n",
       "      <td>0.002983</td>\n",
       "      <td>0.003096</td>\n",
       "      <td>0.004362</td>\n",
       "      <td>0.000815</td>\n",
       "      <td>0.004535</td>\n",
       "      <td>0.004938</td>\n",
       "      <td>0.003958</td>\n",
       "      <td>0.001023</td>\n",
       "      <td>0.002404</td>\n",
       "      <td>0.004313</td>\n",
       "      <td>...</td>\n",
       "      <td>0.007112</td>\n",
       "      <td>0.011977</td>\n",
       "      <td>0.004218</td>\n",
       "      <td>0.002054</td>\n",
       "      <td>0.011595</td>\n",
       "      <td>0.005600</td>\n",
       "      <td>0.001729</td>\n",
       "      <td>0.009503</td>\n",
       "      <td>0.002891</td>\n",
       "      <td>0.011211</td>\n",
       "    </tr>\n",
       "    <tr>\n",
       "      <th>data scientist</th>\n",
       "      <td>0.002318</td>\n",
       "      <td>0.005574</td>\n",
       "      <td>0.008394</td>\n",
       "      <td>0.018985</td>\n",
       "      <td>0.001737</td>\n",
       "      <td>0.002043</td>\n",
       "      <td>0.002825</td>\n",
       "      <td>0.008828</td>\n",
       "      <td>0.005426</td>\n",
       "      <td>0.004143</td>\n",
       "      <td>...</td>\n",
       "      <td>0.008649</td>\n",
       "      <td>0.003750</td>\n",
       "      <td>0.010673</td>\n",
       "      <td>0.005390</td>\n",
       "      <td>0.008997</td>\n",
       "      <td>0.011822</td>\n",
       "      <td>0.000615</td>\n",
       "      <td>0.003671</td>\n",
       "      <td>0.002685</td>\n",
       "      <td>0.005245</td>\n",
       "    </tr>\n",
       "  </tbody>\n",
       "</table>\n",
       "<p>2 rows × 54 columns</p>\n",
       "</div>"
      ],
      "text/plain": [
       "                      ab     agile        ai  algorithm  analytical skill  \\\n",
       "position                                                                    \n",
       "data analyst    0.002983  0.003096  0.004362   0.000815          0.004535   \n",
       "data scientist  0.002318  0.005574  0.008394   0.018985          0.001737   \n",
       "\n",
       "                attention detail  automation       aws     azure  bachelor  \\\n",
       "position                                                                     \n",
       "data analyst            0.004938    0.003958  0.001023  0.002404  0.004313   \n",
       "data scientist          0.002043    0.002825  0.008828  0.005426  0.004143   \n",
       "\n",
       "                ...         r  reporting  research  segmentation       sql  \\\n",
       "position        ...                                                          \n",
       "data analyst    ...  0.007112   0.011977  0.004218      0.002054  0.011595   \n",
       "data scientist  ...  0.008649   0.003750  0.010673      0.005390  0.008997   \n",
       "\n",
       "                statistic  storytelling   tableau  team work  visualization  \n",
       "position                                                                     \n",
       "data analyst     0.005600      0.001729  0.009503   0.002891       0.011211  \n",
       "data scientist   0.011822      0.000615  0.003671   0.002685       0.005245  \n",
       "\n",
       "[2 rows x 54 columns]"
      ]
     },
     "execution_count": 94,
     "metadata": {},
     "output_type": "execute_result"
    }
   ],
   "source": [
    "df_key.groupby('position').agg('mean')"
   ]
  },
  {
   "cell_type": "code",
   "execution_count": 96,
   "id": "48f3eb2e",
   "metadata": {},
   "outputs": [],
   "source": [
    "df_key.to_csv('data/df_keys.csv', index=None, header=True)"
   ]
  },
  {
   "cell_type": "markdown",
   "id": "fc8f92ce",
   "metadata": {},
   "source": [
    "## To Tableau with that!"
   ]
  },
  {
   "cell_type": "markdown",
   "id": "62f32ff6",
   "metadata": {},
   "source": [
    "# Industries\n",
    " Extracted from Glassdoor in another notebook"
   ]
  }
 ],
 "metadata": {
  "kernelspec": {
   "display_name": "Python 3 (ipykernel)",
   "language": "python",
   "name": "python3"
  },
  "language_info": {
   "codemirror_mode": {
    "name": "ipython",
    "version": 3
   },
   "file_extension": ".py",
   "mimetype": "text/x-python",
   "name": "python",
   "nbconvert_exporter": "python",
   "pygments_lexer": "ipython3",
   "version": "3.9.7"
  },
  "toc": {
   "base_numbering": 1,
   "nav_menu": {},
   "number_sections": true,
   "sideBar": true,
   "skip_h1_title": false,
   "title_cell": "Table of Contents",
   "title_sidebar": "Contents",
   "toc_cell": false,
   "toc_position": {
    "height": "calc(100% - 180px)",
    "left": "10px",
    "top": "150px",
    "width": "256px"
   },
   "toc_section_display": true,
   "toc_window_display": false
  }
 },
 "nbformat": 4,
 "nbformat_minor": 5
}
