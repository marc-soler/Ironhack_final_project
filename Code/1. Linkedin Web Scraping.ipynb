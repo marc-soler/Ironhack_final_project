{
 "cells": [
  {
   "cell_type": "markdown",
   "id": "5166d429",
   "metadata": {},
   "source": [
    "## Imports"
   ]
  },
  {
   "cell_type": "code",
   "execution_count": 1,
   "id": "b55852c4",
   "metadata": {},
   "outputs": [],
   "source": [
    "import os\n",
    "import pandas as pd\n",
    "import time\n",
    "import random\n",
    "import getpass\n",
    "from selenium import webdriver\n",
    "from webdriver_manager.chrome import ChromeDriverManager\n",
    "from selenium.webdriver.chrome.service import Service\n",
    "from selenium.webdriver.common.keys import Keys\n",
    "from selenium.webdriver.common.by import By\n",
    "from selenium.webdriver.support.ui import WebDriverWait\n",
    "from selenium.webdriver.support import expected_conditions as EC\n",
    "from selenium.webdriver.common.action_chains import ActionChains\n",
    "from selenium.common.exceptions import NoSuchElementException, StaleElementReferenceException\n",
    "from bs4 import BeautifulSoup\n",
    "from tqdm import tqdm"
   ]
  },
  {
   "cell_type": "markdown",
   "id": "34740873",
   "metadata": {},
   "source": [
    "## Initialising the driver + logging into Linkedin"
   ]
  },
  {
   "cell_type": "code",
   "execution_count": 2,
   "id": "014e4f70",
   "metadata": {},
   "outputs": [],
   "source": [
    "def driver():\n",
    "    user_agent = 'Mozilla/5.0 (Windows NT 10.0; Win64; x64) AppleWebKit/537.36 (KHTML, like Gecko) Chrome/83.0.4103.116 Safari/537.36'\n",
    "    s = Service(ChromeDriverManager().install())\n",
    "    options = webdriver.ChromeOptions()\n",
    "    options.add_argument('--ignore-certificate-errors')\n",
    "    options.add_argument('--incognito')\n",
    "    #options.add_argument(\"headless\")\n",
    "    options.add_argument(f'user-agent={user_agent}')\n",
    "    options.add_argument(\"--window-size=1920,1080\")\n",
    "    #options.binary_location = '/Applications/Brave Browser.app/Contents/MacOS/Brave Browser'\n",
    "    return webdriver.Chrome(service=s, options=options)\n",
    "    \n",
    "def linkedin_login():\n",
    "    mail = 'praisedbethelord69@gmail.com'\n",
    "    pw = '3m9MLq7rbPgnqLs'\n",
    "    driver.get('https://www.linkedin.com')\n",
    "    username = driver.find_element(By.ID, 'session_key').send_keys(mail)\n",
    "    password = driver.find_element(By.ID, 'session_password').send_keys(pw)\n",
    "    login_button = driver.find_element(By.CLASS_NAME,'sign-in-form__submit-button')\n",
    "    login_button.click()"
   ]
  },
  {
   "cell_type": "markdown",
   "id": "e3621512",
   "metadata": {},
   "source": [
    "## Data analyst positions in Barcelona published last month"
   ]
  },
  {
   "cell_type": "code",
   "execution_count": 18,
   "id": "d084f791",
   "metadata": {},
   "outputs": [],
   "source": [
    "def data_analyst():\n",
    "    user_agent = 'Mozilla/5.0 (Windows NT 10.0; Win64; x64) AppleWebKit/537.36 (KHTML, like Gecko) Chrome/83.0.4103.116 Safari/537.36'\n",
    "    s = Service(ChromeDriverManager().install())\n",
    "    options = webdriver.ChromeOptions()\n",
    "    options.add_argument('--ignore-certificate-errors')\n",
    "    options.add_argument('--incognito')\n",
    "    options.add_argument(\"headless\")\n",
    "    options.add_argument(f'user-agent={user_agent}')\n",
    "    options.add_argument(\"--window-size=1920,1080\")\n",
    "    options.binary_location = '/Applications/Brave Browser.app/Contents/MacOS/Brave Browser'\n",
    "    driver = webdriver.Chrome(service=s, options=options)\n",
    "    mail = 'praisedbethelord69@gmail.com'\n",
    "    pw = '3m9MLq7rbPgnqLs'\n",
    "    driver.get('https://www.linkedin.com')\n",
    "    username = driver.find_element(By.ID, 'session_key').send_keys(mail)\n",
    "    password = driver.find_element(By.ID, 'session_password').send_keys(pw)\n",
    "    login_button = driver.find_element(By.CLASS_NAME,'sign-in-form__submit-button')\n",
    "    login_button.click()\n",
    "    titles = []\n",
    "    companies = []\n",
    "    locations = []\n",
    "    modalities = []\n",
    "    descriptions = []\n",
    "    for i in tqdm(range(0, 976, 25)):\n",
    "        driver.get(f'''https://www.linkedin.com/jobs/search/?f_TPR=r2592000&geoId=107025191&keywords=data&location=Barcelona%2C%20Catalonia%2C%20Spain&start={i}''')\n",
    "        time.sleep(random.randint(3, 5))\n",
    "        all_listings = []\n",
    "        keep_scrolling = True\n",
    "\n",
    "        while keep_scrolling:\n",
    "            listings = driver.find_elements(By.CSS_SELECTOR,\".job-card-list__title\")\n",
    "            if set(listings) == set(all_listings):\n",
    "                keep_scrolling = False\n",
    "            else:\n",
    "                new_listings = list(set(listings) - set(all_listings))\n",
    "                #print(len(new_listings))\n",
    "                for listing in new_listings:\n",
    "                    all_listings.append(listing)\n",
    "                    try:\n",
    "                        driver.execute_script(\"arguments[0].scrollIntoView({behavior: 'smooth'});\", listing)\n",
    "                        time.sleep(random.randint(1, 3))\n",
    "                        listing.click()\n",
    "                        time.sleep(random.randint(2, 5))\n",
    "                        page_source = driver.page_source\n",
    "                        soup = BeautifulSoup(page_source, \"html.parser\")\n",
    "                        try:\n",
    "                            title = driver.find_element(By.XPATH, \"//*[starts-with(@id, 'ember')]/h2\").text\n",
    "                            if 'data' in title.lower() or 'datos' in title.lower():\n",
    "                                titles.append(title)\n",
    "                                try:\n",
    "                                    company = driver.find_element(By.XPATH, \"//*[contains(@class, 'ember-view t-black t-normal')]\").text\n",
    "                                    companies.append(company)\n",
    "                                except NoSuchElementException:\n",
    "                                    companies.append('Unknown')\n",
    "                                    #driver.save_screenshot(\"screenshot.png\")\n",
    "                                try:\n",
    "                                    location = soup.select('body > div.application-outlet > div.authentication-outlet > div.job-search-ext > div.jobs-search-two-pane__wrapper > div > section.jobs-search__right-rail > div > div > div:nth-child(1) > div > div:nth-child(1) > div > div.jobs-unified-top-card__content--two-pane > div.mt2 > span.jobs-unified-top-card__subtitle-primary-grouping.mr2.t-black > span.jobs-unified-top-card__bullet')[0].get_text().strip()\n",
    "                                    locations.append(location)\n",
    "                                except IndexError:\n",
    "                                    locations.append('Unknown')\n",
    "                                    #print('location error')\n",
    "                                try:\n",
    "                                    modality = soup.select('span.jobs-unified-top-card__subtitle-primary-grouping.mr2.t-black > span.jobs-unified-top-card__workplace-type')[0].get_text()\n",
    "                                    modalities.append(modality)\n",
    "                                except IndexError:\n",
    "                                    modalities.append('Unknown')\n",
    "                                    #print('modality error')\n",
    "                                try:\n",
    "                                    description = soup.select('#job-details > span')[0].get_text()\n",
    "                                    descriptions.append(description)\n",
    "                                except IndexError:\n",
    "                                    descriptions.append('Unknown')\n",
    "                                    #print('description error')\n",
    "                        except NoSuchElementException:\n",
    "                            driver.save_screenshot(f\"{random.randint(0, 100)}.png\")\n",
    "                    except StaleElementReferenceException:\n",
    "                        driver.save_screenshot(f\"{random.randint(0, 100)}.png\")\n",
    "                time.sleep(random.randint(1, 2))\n",
    "    driver.quit()\n",
    "    df = pd.DataFrame({'title': titles, 'company': companies, 'location': locations,\n",
    "                  'modality': modalities, 'description': descriptions})\n",
    "    return df\n",
    "\n"
   ]
  },
  {
   "cell_type": "code",
   "execution_count": 10,
   "id": "4b940391",
   "metadata": {},
   "outputs": [
    {
     "name": "stderr",
     "output_type": "stream",
     "text": [
      "\n",
      "\n",
      "====== WebDriver manager ======\n",
      "Could not get version for google-chrome.Is google-chrome installed?\n",
      "Get LATEST chromedriver version for None google-chrome\n",
      "Driver [/Users/marc_soler/.wdm/drivers/chromedriver/mac64/101.0.4951.41/chromedriver] found in cache\n",
      "100%|████████████████████████████████████████| 40/40 [6:11:59<00:00, 557.99s/it]\n"
     ]
    }
   ],
   "source": [
    "analyst = data_analyst()"
   ]
  },
  {
   "cell_type": "code",
   "execution_count": 19,
   "id": "e889be2f",
   "metadata": {},
   "outputs": [
    {
     "name": "stderr",
     "output_type": "stream",
     "text": [
      "\n",
      "\n",
      "====== WebDriver manager ======\n",
      "Could not get version for google-chrome.Is google-chrome installed?\n",
      "Get LATEST chromedriver version for None google-chrome\n",
      "Driver [/Users/marc_soler/.wdm/drivers/chromedriver/mac64/101.0.4951.41/chromedriver] found in cache\n",
      "  5%|██▏                                         | 2/40 [00:14<04:36,  7.28s/it]\n"
     ]
    },
    {
     "ename": "KeyboardInterrupt",
     "evalue": "",
     "output_type": "error",
     "traceback": [
      "\u001b[0;31m---------------------------------------------------------------------------\u001b[0m",
      "\u001b[0;31mKeyboardInterrupt\u001b[0m                         Traceback (most recent call last)",
      "Input \u001b[0;32mIn [19]\u001b[0m, in \u001b[0;36m<cell line: 1>\u001b[0;34m()\u001b[0m\n\u001b[0;32m----> 1\u001b[0m results \u001b[38;5;241m=\u001b[39m \u001b[43mdata_analyst\u001b[49m\u001b[43m(\u001b[49m\u001b[43m)\u001b[49m\n",
      "Input \u001b[0;32mIn [18]\u001b[0m, in \u001b[0;36mdata_analyst\u001b[0;34m()\u001b[0m\n\u001b[1;32m     24\u001b[0m \u001b[38;5;28;01mfor\u001b[39;00m i \u001b[38;5;129;01min\u001b[39;00m tqdm(\u001b[38;5;28mrange\u001b[39m(\u001b[38;5;241m0\u001b[39m, \u001b[38;5;241m976\u001b[39m, \u001b[38;5;241m25\u001b[39m)):\n\u001b[1;32m     25\u001b[0m     driver\u001b[38;5;241m.\u001b[39mget(\u001b[38;5;124mf\u001b[39m\u001b[38;5;124m'''\u001b[39m\u001b[38;5;124mhttps://www.linkedin.com/jobs/search/?f_TPR=r2592000&geoId=107025191&keywords=data&location=Barcelona%2C%20Catalonia%2C%20Spain&start=\u001b[39m\u001b[38;5;132;01m{\u001b[39;00mi\u001b[38;5;132;01m}\u001b[39;00m\u001b[38;5;124m'''\u001b[39m)\n\u001b[0;32m---> 26\u001b[0m     \u001b[43mtime\u001b[49m\u001b[38;5;241;43m.\u001b[39;49m\u001b[43msleep\u001b[49m\u001b[43m(\u001b[49m\u001b[43mrandom\u001b[49m\u001b[38;5;241;43m.\u001b[39;49m\u001b[43mrandint\u001b[49m\u001b[43m(\u001b[49m\u001b[38;5;241;43m3\u001b[39;49m\u001b[43m,\u001b[49m\u001b[43m \u001b[49m\u001b[38;5;241;43m5\u001b[39;49m\u001b[43m)\u001b[49m\u001b[43m)\u001b[49m\n\u001b[1;32m     27\u001b[0m     all_listings \u001b[38;5;241m=\u001b[39m []\n\u001b[1;32m     28\u001b[0m     keep_scrolling \u001b[38;5;241m=\u001b[39m \u001b[38;5;28;01mTrue\u001b[39;00m\n",
      "\u001b[0;31mKeyboardInterrupt\u001b[0m: "
     ]
    }
   ],
   "source": [
    "results = data_analyst()"
   ]
  },
  {
   "cell_type": "markdown",
   "id": "38e3a78c",
   "metadata": {},
   "source": [
    "## Data scientist positions published last month"
   ]
  },
  {
   "cell_type": "code",
   "execution_count": 13,
   "id": "5b553f77",
   "metadata": {},
   "outputs": [],
   "source": [
    "def data_scientist():\n",
    "    user_agent = 'Mozilla/5.0 (Windows NT 10.0; Win64; x64) AppleWebKit/537.36 (KHTML, like Gecko) Chrome/83.0.4103.116 Safari/537.36'\n",
    "    s = Service(ChromeDriverManager().install())\n",
    "    options = webdriver.ChromeOptions()\n",
    "    options.add_argument('--ignore-certificate-errors')\n",
    "    options.add_argument('--incognito')\n",
    "    options.add_argument(\"headless\")\n",
    "    options.add_argument(f'user-agent={user_agent}')\n",
    "    options.add_argument(\"--window-size=1920,1080\")\n",
    "    options.binary_location = '/Applications/Brave Browser.app/Contents/MacOS/Brave Browser'\n",
    "    driver = webdriver.Chrome(service=s, options=options)\n",
    "    mail = 'praisedbethelord69@gmail.com'\n",
    "    pw = '3m9MLq7rbPgnqLs'\n",
    "    driver.get('https://www.linkedin.com')\n",
    "    username = driver.find_element(By.ID, 'session_key').send_keys(mail)\n",
    "    password = driver.find_element(By.ID, 'session_password').send_keys(pw)\n",
    "    login_button = driver.find_element(By.CLASS_NAME,'sign-in-form__submit-button')\n",
    "    login_button.click()\n",
    "    titles = []\n",
    "    companies = []\n",
    "    locations = []\n",
    "    modalities = []\n",
    "    descriptions = []\n",
    "    for i in tqdm(range(0, 976, 25)):\n",
    "        driver.get(f'''https://www.linkedin.com/jobs/search/?f_TPR=r2592000&geoId=107025191&keywords=data%20scientist&location=Barcelona%2C%20Catalonia%2C%20Spain&start={i}''')\n",
    "        time.sleep(random.randint(3, 5))\n",
    "        all_listings = []\n",
    "        keep_scrolling = True\n",
    "\n",
    "        while keep_scrolling:\n",
    "            listings = driver.find_elements(By.CSS_SELECTOR,\".job-card-list__title\")\n",
    "            if set(listings) == set(all_listings):\n",
    "                keep_scrolling = False\n",
    "            else:\n",
    "                new_listings = list(set(listings) - set(all_listings))\n",
    "                #print(len(new_listings))\n",
    "                for listing in new_listings:\n",
    "                    all_listings.append(listing)\n",
    "                    try:\n",
    "                        driver.execute_script(\"arguments[0].scrollIntoView({behavior: 'smooth'});\", listing)\n",
    "                        time.sleep(random.randint(1, 3))\n",
    "                        listing.click()\n",
    "                        time.sleep(random.randint(2, 5))\n",
    "                        page_source = driver.page_source\n",
    "                        soup = BeautifulSoup(page_source, \"html.parser\")\n",
    "                        try:\n",
    "                            title = driver.find_element(By.XPATH, \"//*[starts-with(@id, 'ember')]/h2\").text\n",
    "                            if 'data' in title.lower() or 'datos' in title.lower():\n",
    "                                titles.append(title)\n",
    "                                try:\n",
    "                                    company = driver.find_element(By.XPATH, \"//*[contains(@class, 'ember-view t-black t-normal')]\").text\n",
    "                                    companies.append(company)\n",
    "                                except NoSuchElementException:\n",
    "                                    companies.append('Unknown')\n",
    "                                    #driver.save_screenshot(\"screenshot.png\")\n",
    "                                try:\n",
    "                                    location = soup.select('body > div.application-outlet > div.authentication-outlet > div.job-search-ext > div.jobs-search-two-pane__wrapper > div > section.jobs-search__right-rail > div > div > div:nth-child(1) > div > div:nth-child(1) > div > div.jobs-unified-top-card__content--two-pane > div.mt2 > span.jobs-unified-top-card__subtitle-primary-grouping.mr2.t-black > span.jobs-unified-top-card__bullet')[0].get_text().strip()\n",
    "                                    locations.append(location)\n",
    "                                except IndexError:\n",
    "                                    locations.append('Unknown')\n",
    "                                    #print('location error')\n",
    "                                try:\n",
    "                                    modality = soup.select('span.jobs-unified-top-card__subtitle-primary-grouping.mr2.t-black > span.jobs-unified-top-card__workplace-type')[0].get_text()\n",
    "                                    modalities.append(modality)\n",
    "                                except IndexError:\n",
    "                                    modalities.append('Unknown')\n",
    "                                    #print('modality error')\n",
    "                                try:\n",
    "                                    description = soup.select('#job-details > span')[0].get_text()\n",
    "                                    descriptions.append(description)\n",
    "                                except IndexError:\n",
    "                                    descriptions.append('Unknown')\n",
    "                                    #print('description error')\n",
    "                        except NoSuchElementException:\n",
    "                            driver.save_screenshot(f\"{random.randint(0, 100)}.png\")\n",
    "                    except StaleElementReferenceException:\n",
    "                        driver.save_screenshot(f\"{random.randint(0, 100)}.png\")\n",
    "                time.sleep(random.randint(1, 2))\n",
    "    driver.quit()\n",
    "    df = pd.DataFrame({'title': titles, 'company': companies, 'location': locations,\n",
    "                  'modality': modalities, 'description': descriptions})\n",
    "    return df\n"
   ]
  },
  {
   "cell_type": "code",
   "execution_count": 16,
   "id": "c0d15398",
   "metadata": {},
   "outputs": [
    {
     "name": "stderr",
     "output_type": "stream",
     "text": [
      "\n",
      "\n",
      "====== WebDriver manager ======\n",
      "Could not get version for google-chrome.Is google-chrome installed?\n",
      "Get LATEST chromedriver version for None google-chrome\n",
      "Driver [/Users/marc_soler/.wdm/drivers/chromedriver/mac64/101.0.4951.41/chromedriver] found in cache\n",
      "100%|███████████████████████████████████████████| 40/40 [03:27<00:00,  5.19s/it]\n"
     ]
    }
   ],
   "source": [
    "scientist = data_scientist()"
   ]
  },
  {
   "cell_type": "markdown",
   "id": "9cebe2ae",
   "metadata": {},
   "source": [
    "## Putting everything together"
   ]
  },
  {
   "cell_type": "code",
   "execution_count": null,
   "id": "17b27c1c",
   "metadata": {},
   "outputs": [],
   "source": [
    "df = pd.concat([analyst, scientist]).reset_index(drop=True)"
   ]
  },
  {
   "cell_type": "code",
   "execution_count": null,
   "id": "ae25c864",
   "metadata": {},
   "outputs": [],
   "source": [
    "df.info()"
   ]
  },
  {
   "cell_type": "markdown",
   "id": "b17d343e",
   "metadata": {},
   "source": [
    "## Dropping duplicates & saving the dataframe"
   ]
  },
  {
   "cell_type": "code",
   "execution_count": 34,
   "id": "43528b02",
   "metadata": {},
   "outputs": [
    {
     "name": "stdout",
     "output_type": "stream",
     "text": [
      "<class 'pandas.core.frame.DataFrame'>\n",
      "RangeIndex: 412 entries, 0 to 411\n",
      "Data columns (total 5 columns):\n",
      " #   Column       Non-Null Count  Dtype \n",
      "---  ------       --------------  ----- \n",
      " 0   title        412 non-null    object\n",
      " 1   company      412 non-null    object\n",
      " 2   location     412 non-null    object\n",
      " 3   modality     412 non-null    object\n",
      " 4   description  412 non-null    object\n",
      "dtypes: object(5)\n",
      "memory usage: 16.2+ KB\n"
     ]
    }
   ],
   "source": [
    "df.drop_duplicates(inplace=True)\n",
    "df.reset_index(drop=True, inplace=True)\n",
    "df.info()"
   ]
  },
  {
   "cell_type": "code",
   "execution_count": 35,
   "id": "b77a2360",
   "metadata": {},
   "outputs": [],
   "source": [
    "df.to_csv('analyst_scientist_bcn_last_month_clean.csv', index=None, header=True)"
   ]
  },
  {
   "cell_type": "markdown",
   "id": "7a1cbb6d",
   "metadata": {},
   "source": [
    "## Test"
   ]
  },
  {
   "cell_type": "code",
   "execution_count": 11,
   "id": "dfab8387",
   "metadata": {},
   "outputs": [
    {
     "data": {
      "text/html": [
       "<div>\n",
       "<style scoped>\n",
       "    .dataframe tbody tr th:only-of-type {\n",
       "        vertical-align: middle;\n",
       "    }\n",
       "\n",
       "    .dataframe tbody tr th {\n",
       "        vertical-align: top;\n",
       "    }\n",
       "\n",
       "    .dataframe thead th {\n",
       "        text-align: right;\n",
       "    }\n",
       "</style>\n",
       "<table border=\"1\" class=\"dataframe\">\n",
       "  <thead>\n",
       "    <tr style=\"text-align: right;\">\n",
       "      <th></th>\n",
       "      <th>title</th>\n",
       "      <th>company</th>\n",
       "      <th>location</th>\n",
       "      <th>modality</th>\n",
       "      <th>description</th>\n",
       "    </tr>\n",
       "  </thead>\n",
       "  <tbody>\n",
       "    <tr>\n",
       "      <th>0</th>\n",
       "      <td>Language Data Analyst Norwegian Speakers (Barc...</td>\n",
       "      <td>TransPerfect</td>\n",
       "      <td>Barcelona, Catalonia, Spain</td>\n",
       "      <td>On-site</td>\n",
       "      <td>\\nJob description\\nDataForce is part of the Tr...</td>\n",
       "    </tr>\n",
       "    <tr>\n",
       "      <th>1</th>\n",
       "      <td>GO! Graduate IT &amp; Data Analysis</td>\n",
       "      <td>Essity</td>\n",
       "      <td>Barcelona, Catalonia, Spain</td>\n",
       "      <td>On-site</td>\n",
       "      <td>\\nGO! Graduate - IT Data &amp; Analytics\\nDo you w...</td>\n",
       "    </tr>\n",
       "    <tr>\n",
       "      <th>2</th>\n",
       "      <td>Data analyst - Food Solutions (They/She/He)</td>\n",
       "      <td>Glovo</td>\n",
       "      <td>Barcelona, Catalonia, Spain</td>\n",
       "      <td>On-site</td>\n",
       "      <td>\\nAbout Glovo\\n\\nGlovo is a global marketplace...</td>\n",
       "    </tr>\n",
       "    <tr>\n",
       "      <th>3</th>\n",
       "      <td>GO! Graduate IoT &amp; Data Analysis</td>\n",
       "      <td>Essity</td>\n",
       "      <td>Barcelona, Catalonia, Spain</td>\n",
       "      <td>On-site</td>\n",
       "      <td>\\nGO! Graduate - IoT &amp; Data Analysis\\nDo you w...</td>\n",
       "    </tr>\n",
       "    <tr>\n",
       "      <th>4</th>\n",
       "      <td>Senior Business Strategy Data Analyst</td>\n",
       "      <td>Preply</td>\n",
       "      <td>Barcelona, Catalonia, Spain</td>\n",
       "      <td>Unknown</td>\n",
       "      <td>\\n            Preply is a global language lear...</td>\n",
       "    </tr>\n",
       "    <tr>\n",
       "      <th>...</th>\n",
       "      <td>...</td>\n",
       "      <td>...</td>\n",
       "      <td>...</td>\n",
       "      <td>...</td>\n",
       "      <td>...</td>\n",
       "    </tr>\n",
       "    <tr>\n",
       "      <th>407</th>\n",
       "      <td>Senior Data Scientist (Clinical Data Management)</td>\n",
       "      <td>Premier Research</td>\n",
       "      <td>Spain</td>\n",
       "      <td>Remote</td>\n",
       "      <td>\\nPremier Research helps highly innovative bio...</td>\n",
       "    </tr>\n",
       "    <tr>\n",
       "      <th>408</th>\n",
       "      <td>Full-Stack Software Engineer - Data Visualizat...</td>\n",
       "      <td>Criteo</td>\n",
       "      <td>Barcelona, Catalonia, Spain</td>\n",
       "      <td>Unknown</td>\n",
       "      <td>\\nWho We Are\\n\\nAt Criteo, our culture is as u...</td>\n",
       "    </tr>\n",
       "    <tr>\n",
       "      <th>409</th>\n",
       "      <td>DataOps Engineer</td>\n",
       "      <td>Revolut</td>\n",
       "      <td>Spain</td>\n",
       "      <td>Remote</td>\n",
       "      <td>\\n            A little about us…When Revolut w...</td>\n",
       "    </tr>\n",
       "    <tr>\n",
       "      <th>410</th>\n",
       "      <td>Full Stack Engineer (Data Team) (All Levels) (...</td>\n",
       "      <td>Agoda</td>\n",
       "      <td>Barcelona, Catalonia, Spain</td>\n",
       "      <td>Unknown</td>\n",
       "      <td>\\nAbout Agoda\\n\\nAgoda is an online travel boo...</td>\n",
       "    </tr>\n",
       "    <tr>\n",
       "      <th>411</th>\n",
       "      <td>Data Scientist - CRM with Python</td>\n",
       "      <td>Zurich Insurance</td>\n",
       "      <td>Barcelona, Catalonia, Spain</td>\n",
       "      <td>Unknown</td>\n",
       "      <td>\\nWhat are we looking for? \\n\\nAs part of the ...</td>\n",
       "    </tr>\n",
       "  </tbody>\n",
       "</table>\n",
       "<p>412 rows × 5 columns</p>\n",
       "</div>"
      ],
      "text/plain": [
       "                                                 title           company  \\\n",
       "0    Language Data Analyst Norwegian Speakers (Barc...      TransPerfect   \n",
       "1                      GO! Graduate IT & Data Analysis            Essity   \n",
       "2          Data analyst - Food Solutions (They/She/He)             Glovo   \n",
       "3                     GO! Graduate IoT & Data Analysis            Essity   \n",
       "4                Senior Business Strategy Data Analyst            Preply   \n",
       "..                                                 ...               ...   \n",
       "407   Senior Data Scientist (Clinical Data Management)  Premier Research   \n",
       "408  Full-Stack Software Engineer - Data Visualizat...            Criteo   \n",
       "409                                   DataOps Engineer           Revolut   \n",
       "410  Full Stack Engineer (Data Team) (All Levels) (...             Agoda   \n",
       "411                   Data Scientist - CRM with Python  Zurich Insurance   \n",
       "\n",
       "                        location modality  \\\n",
       "0    Barcelona, Catalonia, Spain  On-site   \n",
       "1    Barcelona, Catalonia, Spain  On-site   \n",
       "2    Barcelona, Catalonia, Spain  On-site   \n",
       "3    Barcelona, Catalonia, Spain  On-site   \n",
       "4    Barcelona, Catalonia, Spain  Unknown   \n",
       "..                           ...      ...   \n",
       "407                        Spain   Remote   \n",
       "408  Barcelona, Catalonia, Spain  Unknown   \n",
       "409                        Spain   Remote   \n",
       "410  Barcelona, Catalonia, Spain  Unknown   \n",
       "411  Barcelona, Catalonia, Spain  Unknown   \n",
       "\n",
       "                                           description  \n",
       "0    \\nJob description\\nDataForce is part of the Tr...  \n",
       "1    \\nGO! Graduate - IT Data & Analytics\\nDo you w...  \n",
       "2    \\nAbout Glovo\\n\\nGlovo is a global marketplace...  \n",
       "3    \\nGO! Graduate - IoT & Data Analysis\\nDo you w...  \n",
       "4    \\n            Preply is a global language lear...  \n",
       "..                                                 ...  \n",
       "407  \\nPremier Research helps highly innovative bio...  \n",
       "408  \\nWho We Are\\n\\nAt Criteo, our culture is as u...  \n",
       "409  \\n            A little about us…When Revolut w...  \n",
       "410  \\nAbout Agoda\\n\\nAgoda is an online travel boo...  \n",
       "411  \\nWhat are we looking for? \\n\\nAs part of the ...  \n",
       "\n",
       "[412 rows x 5 columns]"
      ]
     },
     "execution_count": 11,
     "metadata": {},
     "output_type": "execute_result"
    }
   ],
   "source": [
    "test = pd.read_csv('../data/analyst_scientist_bcn_last_month.csv')\n",
    "test"
   ]
  },
  {
   "cell_type": "code",
   "execution_count": 13,
   "id": "adeba5d8",
   "metadata": {},
   "outputs": [
    {
     "data": {
      "text/plain": [
       "'\\nJob description\\nDataForce is part of the TransPerfect family of companies, the world’s largest provider of language and technology solutions for global business, with offices in more than 100 cities worldwide.\\nWe are currently hiring Norwegian speakers in Barcelona to join us in an innovative and interesting project to improve Artificial Intelligence and technology (i.e., speech or text recognition, input methods, keyboard/swipe technology, or other areas of human-machine interaction related to languages).As a Language Data Analyst in DataForce, your main task will be to classify, sort, label, and annotate data that are used to train AI.\\nJob requirements\\nNo previous experience or training in the field is required - we will teach you all you need to know!Native level proficiency in Norwegian is a must.Great comprehension of English is also required (tests and training materials are in English.\\nYou also need to be:\\neligible to work in Spain able to work from our offices in Barcelona - this position is onsitedetail-oriented and not afraid of repetitive tasksa team player!\\nWhat we offer\\nFull-time work in a fast-growing multinational company.Friendly and international environment in the office located in the center of sunny Barcelona.Stable work schedule (we work standard office hours - no shifts or work on weekends!).Competitive salary.\\nDoes it sound interesting? Then do not hesitate and hit the Apply button!\\n '"
      ]
     },
     "execution_count": 13,
     "metadata": {},
     "output_type": "execute_result"
    }
   ],
   "source": [
    "test['description'][0]"
   ]
  }
 ],
 "metadata": {
  "kernelspec": {
   "display_name": "Python 3 (ipykernel)",
   "language": "python",
   "name": "python3"
  },
  "language_info": {
   "codemirror_mode": {
    "name": "ipython",
    "version": 3
   },
   "file_extension": ".py",
   "mimetype": "text/x-python",
   "name": "python",
   "nbconvert_exporter": "python",
   "pygments_lexer": "ipython3",
   "version": "3.9.7"
  },
  "toc": {
   "base_numbering": 1,
   "nav_menu": {},
   "number_sections": true,
   "sideBar": true,
   "skip_h1_title": false,
   "title_cell": "Table of Contents",
   "title_sidebar": "Contents",
   "toc_cell": false,
   "toc_position": {},
   "toc_section_display": true,
   "toc_window_display": false
  }
 },
 "nbformat": 4,
 "nbformat_minor": 5
}
