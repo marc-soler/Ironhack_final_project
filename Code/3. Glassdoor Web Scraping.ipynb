{
 "cells": [
  {
   "cell_type": "code",
   "execution_count": 1,
   "id": "31fd4fc7",
   "metadata": {},
   "outputs": [],
   "source": [
    "import os\n",
    "import re\n",
    "import pandas as pd\n",
    "import time\n",
    "import random\n",
    "import getpass\n",
    "from selenium import webdriver\n",
    "from webdriver_manager.chrome import ChromeDriverManager\n",
    "from selenium.webdriver.chrome.service import Service\n",
    "from selenium.webdriver.common.keys import Keys\n",
    "from selenium.webdriver.common.by import By\n",
    "from selenium.webdriver.support.ui import WebDriverWait\n",
    "from selenium.webdriver.support import expected_conditions as EC\n",
    "from selenium.webdriver.common.action_chains import ActionChains\n",
    "from selenium.common.exceptions import NoSuchElementException, StaleElementReferenceException\n",
    "from bs4 import BeautifulSoup\n",
    "from tqdm import tqdm"
   ]
  },
  {
   "cell_type": "code",
   "execution_count": 33,
   "id": "f0f7d572",
   "metadata": {},
   "outputs": [],
   "source": [
    "df = pd.read_csv('../data/analyst.csv')"
   ]
  },
  {
   "cell_type": "code",
   "execution_count": 40,
   "id": "67f69c5f",
   "metadata": {},
   "outputs": [],
   "source": [
    "companies = df['company']"
   ]
  },
  {
   "cell_type": "code",
   "execution_count": 41,
   "id": "2c9c5597",
   "metadata": {},
   "outputs": [],
   "source": [
    "companies = companies.to_frame()"
   ]
  },
  {
   "cell_type": "code",
   "execution_count": 44,
   "id": "8fe6e684",
   "metadata": {},
   "outputs": [
    {
     "name": "stderr",
     "output_type": "stream",
     "text": [
      "/var/folders/ns/dwkdv3q54l519by5p0d7hdym0000gn/T/ipykernel_70591/83232701.py:2: FutureWarning: The default value of regex will change from True to False in a future version.\n",
      "  companies['company'] = companies['company'].str.replace('MA (Montreal Associates)', 'Montreal Associates')\n"
     ]
    }
   ],
   "source": [
    "# companies = pd.read_csv('../data/companies.csv')\n",
    "companies['company'] = companies['company'].str.replace('MA (Montreal Associates)', 'Montreal Associates')\n",
    "emoji_pattern = re.compile(\"[\"\n",
    "        u\"\\U0001F600-\\U0001F64F\"  # emoticons\n",
    "        u\"\\U0001F300-\\U0001F5FF\"  # symbols & pictographs\n",
    "        u\"\\U0001F680-\\U0001F6FF\"  # transport & map symbols\n",
    "        u\"\\U0001F1E0-\\U0001F1FF\"  # flags (iOS)\n",
    "                           \"]+\", flags=re.UNICODE)\n",
    "companies['company'] = companies['company'].apply(str)\n",
    "for index, text in companies['company'].iteritems():\n",
    "    companies['company'][index] = emoji_pattern.sub(r'', text)"
   ]
  },
  {
   "cell_type": "code",
   "execution_count": 45,
   "id": "77a49e3a",
   "metadata": {},
   "outputs": [],
   "source": [
    "mail = 'praisedbethelord69@gmail.com'\n",
    "pw = 'Patatacaliente_3'"
   ]
  },
  {
   "cell_type": "code",
   "execution_count": 52,
   "id": "e7b201af",
   "metadata": {},
   "outputs": [],
   "source": [
    "def launchBrowser():\n",
    "    s = Service(ChromeDriverManager().install())\n",
    "    options = webdriver.ChromeOptions()\n",
    "    options.add_argument('--ignore-certificate-errors')\n",
    "    options.add_argument('--incognito')\n",
    "    #options.add_argument(\"headless\")\n",
    "    #options.add_argument(f'user-agent={user_agent}')\n",
    "    options.add_argument(\"start-maximized\")\n",
    "    options.add_experimental_option(\"detach\", True)\n",
    "    options.binary_location = '/Applications/Brave Browser.app/Contents/MacOS/Brave Browser'\n",
    "    driver = webdriver.Chrome(service=s, options=options)\n",
    "    driver.get(\"https://www.glassdoor.co.uk/index.htm\")\n",
    "    time.sleep(2)\n",
    "    driver.find_element(By.XPATH,'//*[@id=\"SiteNav\"]/nav/div[2]/div/div/div/button').click()\n",
    "    time.sleep(2)\n",
    "    driver.find_element(By.XPATH, \"//*[@id='modalUserEmail']\").send_keys(mail)\n",
    "    time.sleep(2)\n",
    "    driver.find_element(By.XPATH, \"//*[@id='modalUserPassword']\").send_keys(pw)\n",
    "    time.sleep(2)\n",
    "    driver.find_element(By.XPATH, \"//*[@id='LoginModal']/div/div/div[2]/div[2]/div[2]/div/div/form/div[3]/button\").click()\n",
    "    return driver"
   ]
  },
  {
   "cell_type": "code",
   "execution_count": 53,
   "id": "7648e054",
   "metadata": {},
   "outputs": [],
   "source": [
    "def get_industry():\n",
    "    location = 'Barcelona'\n",
    "    driver = launchBrowser()\n",
    "    time.sleep(random.randint(1,3))\n",
    "    #driver.find_element(By.XPATH, \"//*[@id='SiteNav']/nav[2]/div/div/div[2]/div[2]/div[1]/div/a\").click()\n",
    "    driver.find_element(By.XPATH, \"//*[@id='SiteNav']/nav[2]/div/div/div[2]/div[2]/div[1]/div/a/span/div/h3\").click()\n",
    "    time.sleep(random.randint(1,3))\n",
    "    for company in tqdm(companies['company']):\n",
    "        time.sleep(random.randint(1,3))\n",
    "        try:\n",
    "            c = driver.find_element(By.XPATH, \"//*[@id='sc.keyword']\").get_attribute(\"value\")\n",
    "            if not c:\n",
    "                driver.find_element(By.XPATH, \"//*[@id='sc.keyword']\").send_keys(company)\n",
    "            else:\n",
    "                driver.find_element(By.XPATH, \"//*[@id='sc.keyword']\").clear()\n",
    "                driver.find_element(By.XPATH, \"//*[@id='sc.keyword']\").send_keys(company)\n",
    "\n",
    "            driver.find_element(By.XPATH, \"//*[@id='scBar']/div/button\").click()\n",
    "            time.sleep(random.randint(1,3))\n",
    "            try:\n",
    "                driver.find_element(By.XPATH, \"//*[@id='MainCol']/div/div[1]/div/div[1]/div/div[2]/h2/a\").click()\n",
    "                time.sleep(random.randint(1,3))\n",
    "                industries.append((company, driver.find_element(By.XPATH, \"//*[@id='EIOverviewContainer']/div/div[1]/ul/li[6]/a\").text))\n",
    "            except NoSuchElementException:\n",
    "                try:\n",
    "                    industries.append((company, driver.find_element(By.XPATH, \"//*[@id='EIOverviewContainer']/div/div[1]/ul/li[6]/a\").text))\n",
    "                except NoSuchElementException:\n",
    "                    industries.append((company, 'unknown'))\n",
    "        except StaleElementReferenceException:\n",
    "            driver.save_screenshot(f\"{random.randint(0, 100)}.png\")\n",
    "\n",
    "        "
   ]
  },
  {
   "cell_type": "code",
   "execution_count": 54,
   "id": "5280f7b5",
   "metadata": {},
   "outputs": [
    {
     "name": "stderr",
     "output_type": "stream",
     "text": [
      "\n",
      "\n",
      "====== WebDriver manager ======\n",
      "Could not get version for google-chrome.Is google-chrome installed?\n",
      "Get LATEST chromedriver version for None google-chrome\n",
      "Driver [/Users/marc_soler/.wdm/drivers/chromedriver/mac64/101.0.4951.41/chromedriver] found in cache\n",
      " 78%|███████████████████████████████▉         | 319/410 [54:12<15:27, 10.20s/it]\n"
     ]
    },
    {
     "ename": "WebDriverException",
     "evalue": "Message: unknown error: cannot determine loading status\nfrom target frame detached\n  (Session info: chrome=101.0.4951.41)\nStacktrace:\n0   chromedriver                        0x0000000103aac2c9 chromedriver + 5120713\n1   chromedriver                        0x0000000103a3ae33 chromedriver + 4656691\n2   chromedriver                        0x000000010362a00f chromedriver + 393231\n3   chromedriver                        0x0000000103614dec chromedriver + 306668\n4   chromedriver                        0x0000000103613efa chromedriver + 302842\n5   chromedriver                        0x00000001036143fc chromedriver + 304124\n6   chromedriver                        0x0000000103614354 chromedriver + 303956\n7   chromedriver                        0x000000010361b365 chromedriver + 332645\n8   chromedriver                        0x00000001036156f6 chromedriver + 308982\n9   chromedriver                        0x0000000103615cb8 chromedriver + 310456\n10  chromedriver                        0x0000000103615a6a chromedriver + 309866\n11  chromedriver                        0x0000000103614ff7 chromedriver + 307191\n12  chromedriver                        0x0000000103613efa chromedriver + 302842\n13  chromedriver                        0x00000001036143fc chromedriver + 304124\n14  chromedriver                        0x000000010362256f chromedriver + 361839\n15  chromedriver                        0x00000001036230d2 chromedriver + 364754\n16  chromedriver                        0x00000001036311c3 chromedriver + 422339\n17  chromedriver                        0x00000001036344da chromedriver + 435418\n18  chromedriver                        0x000000010361472e chromedriver + 304942\n19  chromedriver                        0x0000000103630e0a chromedriver + 421386\n20  chromedriver                        0x000000010368f34d chromedriver + 807757\n21  chromedriver                        0x000000010367c373 chromedriver + 729971\n22  chromedriver                        0x0000000103652609 chromedriver + 558601\n23  chromedriver                        0x0000000103653635 chromedriver + 562741\n24  chromedriver                        0x0000000103a7eb1d chromedriver + 4934429\n25  chromedriver                        0x0000000103a83295 chromedriver + 4952725\n26  chromedriver                        0x0000000103a883cf chromedriver + 4973519\n27  chromedriver                        0x0000000103a83cba chromedriver + 4955322\n28  chromedriver                        0x0000000103a5e37c chromedriver + 4801404\n29  chromedriver                        0x0000000103a9dc68 chromedriver + 5061736\n30  chromedriver                        0x0000000103a9ddef chromedriver + 5062127\n31  chromedriver                        0x0000000103ab35e5 chromedriver + 5150181\n32  libsystem_pthread.dylib             0x00007ff8055e74e1 _pthread_start + 125\n33  libsystem_pthread.dylib             0x00007ff8055e2f6b thread_start + 15\n",
     "output_type": "error",
     "traceback": [
      "\u001b[0;31m---------------------------------------------------------------------------\u001b[0m",
      "\u001b[0;31mWebDriverException\u001b[0m                        Traceback (most recent call last)",
      "Input \u001b[0;32mIn [54]\u001b[0m, in \u001b[0;36m<cell line: 2>\u001b[0;34m()\u001b[0m\n\u001b[1;32m      1\u001b[0m industries \u001b[38;5;241m=\u001b[39m []\n\u001b[0;32m----> 2\u001b[0m tqdm(\u001b[43mget_industry\u001b[49m\u001b[43m(\u001b[49m\u001b[43m)\u001b[49m)\n",
      "Input \u001b[0;32mIn [53]\u001b[0m, in \u001b[0;36mget_industry\u001b[0;34m()\u001b[0m\n\u001b[1;32m     19\u001b[0m time\u001b[38;5;241m.\u001b[39msleep(random\u001b[38;5;241m.\u001b[39mrandint(\u001b[38;5;241m1\u001b[39m,\u001b[38;5;241m3\u001b[39m))\n\u001b[1;32m     20\u001b[0m \u001b[38;5;28;01mtry\u001b[39;00m:\n\u001b[0;32m---> 21\u001b[0m     \u001b[43mdriver\u001b[49m\u001b[38;5;241;43m.\u001b[39;49m\u001b[43mfind_element\u001b[49m\u001b[43m(\u001b[49m\u001b[43mBy\u001b[49m\u001b[38;5;241;43m.\u001b[39;49m\u001b[43mXPATH\u001b[49m\u001b[43m,\u001b[49m\u001b[43m \u001b[49m\u001b[38;5;124;43m\"\u001b[39;49m\u001b[38;5;124;43m//*[@id=\u001b[39;49m\u001b[38;5;124;43m'\u001b[39;49m\u001b[38;5;124;43mMainCol\u001b[39;49m\u001b[38;5;124;43m'\u001b[39;49m\u001b[38;5;124;43m]/div/div[1]/div/div[1]/div/div[2]/h2/a\u001b[39;49m\u001b[38;5;124;43m\"\u001b[39;49m\u001b[43m)\u001b[49m\u001b[38;5;241;43m.\u001b[39;49m\u001b[43mclick\u001b[49m\u001b[43m(\u001b[49m\u001b[43m)\u001b[49m\n\u001b[1;32m     22\u001b[0m     time\u001b[38;5;241m.\u001b[39msleep(random\u001b[38;5;241m.\u001b[39mrandint(\u001b[38;5;241m1\u001b[39m,\u001b[38;5;241m3\u001b[39m))\n\u001b[1;32m     23\u001b[0m     industries\u001b[38;5;241m.\u001b[39mappend((company, driver\u001b[38;5;241m.\u001b[39mfind_element(By\u001b[38;5;241m.\u001b[39mXPATH, \u001b[38;5;124m\"\u001b[39m\u001b[38;5;124m//*[@id=\u001b[39m\u001b[38;5;124m'\u001b[39m\u001b[38;5;124mEIOverviewContainer\u001b[39m\u001b[38;5;124m'\u001b[39m\u001b[38;5;124m]/div/div[1]/ul/li[6]/a\u001b[39m\u001b[38;5;124m\"\u001b[39m)\u001b[38;5;241m.\u001b[39mtext))\n",
      "File \u001b[0;32m~/opt/anaconda3/envs/personal/lib/python3.9/site-packages/selenium/webdriver/remote/webelement.py:81\u001b[0m, in \u001b[0;36mWebElement.click\u001b[0;34m(self)\u001b[0m\n\u001b[1;32m     79\u001b[0m \u001b[38;5;28;01mdef\u001b[39;00m \u001b[38;5;21mclick\u001b[39m(\u001b[38;5;28mself\u001b[39m) \u001b[38;5;241m-\u001b[39m\u001b[38;5;241m>\u001b[39m \u001b[38;5;28;01mNone\u001b[39;00m:\n\u001b[1;32m     80\u001b[0m     \u001b[38;5;124;03m\"\"\"Clicks the element.\"\"\"\u001b[39;00m\n\u001b[0;32m---> 81\u001b[0m     \u001b[38;5;28;43mself\u001b[39;49m\u001b[38;5;241;43m.\u001b[39;49m\u001b[43m_execute\u001b[49m\u001b[43m(\u001b[49m\u001b[43mCommand\u001b[49m\u001b[38;5;241;43m.\u001b[39;49m\u001b[43mCLICK_ELEMENT\u001b[49m\u001b[43m)\u001b[49m\n",
      "File \u001b[0;32m~/opt/anaconda3/envs/personal/lib/python3.9/site-packages/selenium/webdriver/remote/webelement.py:710\u001b[0m, in \u001b[0;36mWebElement._execute\u001b[0;34m(self, command, params)\u001b[0m\n\u001b[1;32m    708\u001b[0m     params \u001b[38;5;241m=\u001b[39m {}\n\u001b[1;32m    709\u001b[0m params[\u001b[38;5;124m'\u001b[39m\u001b[38;5;124mid\u001b[39m\u001b[38;5;124m'\u001b[39m] \u001b[38;5;241m=\u001b[39m \u001b[38;5;28mself\u001b[39m\u001b[38;5;241m.\u001b[39m_id\n\u001b[0;32m--> 710\u001b[0m \u001b[38;5;28;01mreturn\u001b[39;00m \u001b[38;5;28;43mself\u001b[39;49m\u001b[38;5;241;43m.\u001b[39;49m\u001b[43m_parent\u001b[49m\u001b[38;5;241;43m.\u001b[39;49m\u001b[43mexecute\u001b[49m\u001b[43m(\u001b[49m\u001b[43mcommand\u001b[49m\u001b[43m,\u001b[49m\u001b[43m \u001b[49m\u001b[43mparams\u001b[49m\u001b[43m)\u001b[49m\n",
      "File \u001b[0;32m~/opt/anaconda3/envs/personal/lib/python3.9/site-packages/selenium/webdriver/remote/webdriver.py:424\u001b[0m, in \u001b[0;36mWebDriver.execute\u001b[0;34m(self, driver_command, params)\u001b[0m\n\u001b[1;32m    422\u001b[0m response \u001b[38;5;241m=\u001b[39m \u001b[38;5;28mself\u001b[39m\u001b[38;5;241m.\u001b[39mcommand_executor\u001b[38;5;241m.\u001b[39mexecute(driver_command, params)\n\u001b[1;32m    423\u001b[0m \u001b[38;5;28;01mif\u001b[39;00m response:\n\u001b[0;32m--> 424\u001b[0m     \u001b[38;5;28;43mself\u001b[39;49m\u001b[38;5;241;43m.\u001b[39;49m\u001b[43merror_handler\u001b[49m\u001b[38;5;241;43m.\u001b[39;49m\u001b[43mcheck_response\u001b[49m\u001b[43m(\u001b[49m\u001b[43mresponse\u001b[49m\u001b[43m)\u001b[49m\n\u001b[1;32m    425\u001b[0m     response[\u001b[38;5;124m'\u001b[39m\u001b[38;5;124mvalue\u001b[39m\u001b[38;5;124m'\u001b[39m] \u001b[38;5;241m=\u001b[39m \u001b[38;5;28mself\u001b[39m\u001b[38;5;241m.\u001b[39m_unwrap_value(\n\u001b[1;32m    426\u001b[0m         response\u001b[38;5;241m.\u001b[39mget(\u001b[38;5;124m'\u001b[39m\u001b[38;5;124mvalue\u001b[39m\u001b[38;5;124m'\u001b[39m, \u001b[38;5;28;01mNone\u001b[39;00m))\n\u001b[1;32m    427\u001b[0m     \u001b[38;5;28;01mreturn\u001b[39;00m response\n",
      "File \u001b[0;32m~/opt/anaconda3/envs/personal/lib/python3.9/site-packages/selenium/webdriver/remote/errorhandler.py:247\u001b[0m, in \u001b[0;36mErrorHandler.check_response\u001b[0;34m(self, response)\u001b[0m\n\u001b[1;32m    245\u001b[0m         alert_text \u001b[38;5;241m=\u001b[39m value[\u001b[38;5;124m'\u001b[39m\u001b[38;5;124malert\u001b[39m\u001b[38;5;124m'\u001b[39m]\u001b[38;5;241m.\u001b[39mget(\u001b[38;5;124m'\u001b[39m\u001b[38;5;124mtext\u001b[39m\u001b[38;5;124m'\u001b[39m)\n\u001b[1;32m    246\u001b[0m     \u001b[38;5;28;01mraise\u001b[39;00m exception_class(message, screen, stacktrace, alert_text)  \u001b[38;5;66;03m# type: ignore[call-arg]  # mypy is not smart enough here\u001b[39;00m\n\u001b[0;32m--> 247\u001b[0m \u001b[38;5;28;01mraise\u001b[39;00m exception_class(message, screen, stacktrace)\n",
      "\u001b[0;31mWebDriverException\u001b[0m: Message: unknown error: cannot determine loading status\nfrom target frame detached\n  (Session info: chrome=101.0.4951.41)\nStacktrace:\n0   chromedriver                        0x0000000103aac2c9 chromedriver + 5120713\n1   chromedriver                        0x0000000103a3ae33 chromedriver + 4656691\n2   chromedriver                        0x000000010362a00f chromedriver + 393231\n3   chromedriver                        0x0000000103614dec chromedriver + 306668\n4   chromedriver                        0x0000000103613efa chromedriver + 302842\n5   chromedriver                        0x00000001036143fc chromedriver + 304124\n6   chromedriver                        0x0000000103614354 chromedriver + 303956\n7   chromedriver                        0x000000010361b365 chromedriver + 332645\n8   chromedriver                        0x00000001036156f6 chromedriver + 308982\n9   chromedriver                        0x0000000103615cb8 chromedriver + 310456\n10  chromedriver                        0x0000000103615a6a chromedriver + 309866\n11  chromedriver                        0x0000000103614ff7 chromedriver + 307191\n12  chromedriver                        0x0000000103613efa chromedriver + 302842\n13  chromedriver                        0x00000001036143fc chromedriver + 304124\n14  chromedriver                        0x000000010362256f chromedriver + 361839\n15  chromedriver                        0x00000001036230d2 chromedriver + 364754\n16  chromedriver                        0x00000001036311c3 chromedriver + 422339\n17  chromedriver                        0x00000001036344da chromedriver + 435418\n18  chromedriver                        0x000000010361472e chromedriver + 304942\n19  chromedriver                        0x0000000103630e0a chromedriver + 421386\n20  chromedriver                        0x000000010368f34d chromedriver + 807757\n21  chromedriver                        0x000000010367c373 chromedriver + 729971\n22  chromedriver                        0x0000000103652609 chromedriver + 558601\n23  chromedriver                        0x0000000103653635 chromedriver + 562741\n24  chromedriver                        0x0000000103a7eb1d chromedriver + 4934429\n25  chromedriver                        0x0000000103a83295 chromedriver + 4952725\n26  chromedriver                        0x0000000103a883cf chromedriver + 4973519\n27  chromedriver                        0x0000000103a83cba chromedriver + 4955322\n28  chromedriver                        0x0000000103a5e37c chromedriver + 4801404\n29  chromedriver                        0x0000000103a9dc68 chromedriver + 5061736\n30  chromedriver                        0x0000000103a9ddef chromedriver + 5062127\n31  chromedriver                        0x0000000103ab35e5 chromedriver + 5150181\n32  libsystem_pthread.dylib             0x00007ff8055e74e1 _pthread_start + 125\n33  libsystem_pthread.dylib             0x00007ff8055e2f6b thread_start + 15\n"
     ]
    }
   ],
   "source": [
    "industries = []\n",
    "tqdm(get_industry())"
   ]
  },
  {
   "cell_type": "code",
   "execution_count": 56,
   "id": "2fd2319b",
   "metadata": {},
   "outputs": [
    {
     "data": {
      "text/plain": [
       "316"
      ]
     },
     "execution_count": 56,
     "metadata": {},
     "output_type": "execute_result"
    }
   ],
   "source": [
    "len(industries)"
   ]
  },
  {
   "cell_type": "code",
   "execution_count": 57,
   "id": "71701a98",
   "metadata": {},
   "outputs": [],
   "source": [
    "fix = []\n",
    "i = dict(set(industries))\n",
    "for c in companies['company']:\n",
    "    if c == 'King':\n",
    "        fix.append('Video Games')\n",
    "    elif c not in i:\n",
    "        fix.append('unknown')\n",
    "    else:\n",
    "        fix.append(i[c])\n",
    "    "
   ]
  },
  {
   "cell_type": "code",
   "execution_count": 58,
   "id": "38c6611e",
   "metadata": {},
   "outputs": [
    {
     "data": {
      "text/plain": [
       "410"
      ]
     },
     "execution_count": 58,
     "metadata": {},
     "output_type": "execute_result"
    }
   ],
   "source": [
    "len(fix)"
   ]
  },
  {
   "cell_type": "code",
   "execution_count": 61,
   "id": "a9de1aef",
   "metadata": {},
   "outputs": [],
   "source": [
    "df['industry'] = fix"
   ]
  },
  {
   "cell_type": "code",
   "execution_count": 66,
   "id": "80671b43",
   "metadata": {},
   "outputs": [],
   "source": [
    "df.to_csv('../data/data_positions_03_05.csv', index=None, header=True)"
   ]
  }
 ],
 "metadata": {
  "kernelspec": {
   "display_name": "Python 3 (ipykernel)",
   "language": "python",
   "name": "python3"
  },
  "language_info": {
   "codemirror_mode": {
    "name": "ipython",
    "version": 3
   },
   "file_extension": ".py",
   "mimetype": "text/x-python",
   "name": "python",
   "nbconvert_exporter": "python",
   "pygments_lexer": "ipython3",
   "version": "3.9.7"
  },
  "toc": {
   "base_numbering": 1,
   "nav_menu": {},
   "number_sections": true,
   "sideBar": true,
   "skip_h1_title": false,
   "title_cell": "Table of Contents",
   "title_sidebar": "Contents",
   "toc_cell": false,
   "toc_position": {},
   "toc_section_display": true,
   "toc_window_display": false
  }
 },
 "nbformat": 4,
 "nbformat_minor": 5
}
